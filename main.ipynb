{
 "cells": [
  {
   "cell_type": "code",
   "execution_count": 1,
   "metadata": {},
   "outputs": [],
   "source": [
    "import pandas as pd\n",
    "import numpy as np\n",
    "import matplotlib.pyplot as plt\n",
    "%matplotlib inline\n",
    "import seaborn as sns"
   ]
  },
  {
   "cell_type": "code",
   "execution_count": 2,
   "metadata": {},
   "outputs": [],
   "source": [
    "from pandas import Series"
   ]
  },
  {
   "cell_type": "code",
   "execution_count": 3,
   "metadata": {},
   "outputs": [],
   "source": [
    "from IPython.display import set_matplotlib_formats\n",
    "set_matplotlib_formats(\"retina\")"
   ]
  },
  {
   "cell_type": "code",
   "execution_count": 4,
   "metadata": {},
   "outputs": [],
   "source": [
    "sns.set(font=\"Malgun Gothic\",\n",
    "        rc={\"axes.unicode_minus\":False},\n",
    "       style=\"whitegrid\")"
   ]
  },
  {
   "cell_type": "code",
   "execution_count": 6,
   "metadata": {},
   "outputs": [],
   "source": [
    "# 전국 유휴지 데이터\n",
    "df = pd.read_csv('unused_land.csv', encoding='cp949')"
   ]
  },
  {
   "cell_type": "code",
   "execution_count": 7,
   "metadata": {},
   "outputs": [
    {
     "data": {
      "text/plain": [
       "(1431, 7)"
      ]
     },
     "execution_count": 7,
     "metadata": {},
     "output_type": "execute_result"
    }
   ],
   "source": [
    "# 유휴지 총 개수\n",
    "df.shape"
   ]
  },
  {
   "cell_type": "code",
   "execution_count": 8,
   "metadata": {},
   "outputs": [
    {
     "data": {
      "text/plain": [
       "Index(['번호', '사업소', '시군', '소재지지번', '지목', '면적', '2020년공시가 '], dtype='object')"
      ]
     },
     "execution_count": 8,
     "metadata": {},
     "output_type": "execute_result"
    }
   ],
   "source": [
    "# 필드 파악\n",
    "df.columns"
   ]
  },
  {
   "cell_type": "code",
   "execution_count": 9,
   "metadata": {},
   "outputs": [
    {
     "data": {
      "text/html": [
       "<div>\n",
       "<style scoped>\n",
       "    .dataframe tbody tr th:only-of-type {\n",
       "        vertical-align: middle;\n",
       "    }\n",
       "\n",
       "    .dataframe tbody tr th {\n",
       "        vertical-align: top;\n",
       "    }\n",
       "\n",
       "    .dataframe thead th {\n",
       "        text-align: right;\n",
       "    }\n",
       "</style>\n",
       "<table border=\"1\" class=\"dataframe\">\n",
       "  <thead>\n",
       "    <tr style=\"text-align: right;\">\n",
       "      <th></th>\n",
       "      <th>시군</th>\n",
       "      <th>소재지지번</th>\n",
       "      <th>지목</th>\n",
       "      <th>면적</th>\n",
       "    </tr>\n",
       "  </thead>\n",
       "  <tbody>\n",
       "    <tr>\n",
       "      <th>0</th>\n",
       "      <td>삼척</td>\n",
       "      <td>강원삼척시도계읍늑구리109</td>\n",
       "      <td>잡종지</td>\n",
       "      <td>106</td>\n",
       "    </tr>\n",
       "    <tr>\n",
       "      <th>1</th>\n",
       "      <td>삼척</td>\n",
       "      <td>강원삼척시도계읍늑구리115</td>\n",
       "      <td>잡종지</td>\n",
       "      <td>188</td>\n",
       "    </tr>\n",
       "    <tr>\n",
       "      <th>2</th>\n",
       "      <td>삼척</td>\n",
       "      <td>강원삼척시도계읍늑구리123</td>\n",
       "      <td>대지</td>\n",
       "      <td>268</td>\n",
       "    </tr>\n",
       "    <tr>\n",
       "      <th>3</th>\n",
       "      <td>삼척</td>\n",
       "      <td>강원삼척시도계읍늑구리124</td>\n",
       "      <td>대지</td>\n",
       "      <td>463</td>\n",
       "    </tr>\n",
       "    <tr>\n",
       "      <th>4</th>\n",
       "      <td>삼척</td>\n",
       "      <td>강원삼척시도계읍늑구리161</td>\n",
       "      <td>대지</td>\n",
       "      <td>397</td>\n",
       "    </tr>\n",
       "  </tbody>\n",
       "</table>\n",
       "</div>"
      ],
      "text/plain": [
       "   시군           소재지지번   지목   면적\n",
       "0  삼척  강원삼척시도계읍늑구리109  잡종지  106\n",
       "1  삼척  강원삼척시도계읍늑구리115  잡종지  188\n",
       "2  삼척  강원삼척시도계읍늑구리123   대지  268\n",
       "3  삼척  강원삼척시도계읍늑구리124   대지  463\n",
       "4  삼척  강원삼척시도계읍늑구리161   대지  397"
      ]
     },
     "execution_count": 9,
     "metadata": {},
     "output_type": "execute_result"
    }
   ],
   "source": [
    "# 필요한 열만 추출\n",
    "df = df[['시군', '소재지지번', '지목', '면적']]\n",
    "df.head()"
   ]
  },
  {
   "cell_type": "code",
   "execution_count": 10,
   "metadata": {},
   "outputs": [
    {
     "data": {
      "text/plain": [
       "['잡종지', '대지', '임야', '전', '답']"
      ]
     },
     "execution_count": 10,
     "metadata": {},
     "output_type": "execute_result"
    }
   ],
   "source": [
    "# '지목' 값 종류\n",
    "df['지목'].unique().tolist()"
   ]
  },
  {
   "cell_type": "code",
   "execution_count": 11,
   "metadata": {},
   "outputs": [
    {
     "data": {
      "text/html": [
       "<div>\n",
       "<style scoped>\n",
       "    .dataframe tbody tr th:only-of-type {\n",
       "        vertical-align: middle;\n",
       "    }\n",
       "\n",
       "    .dataframe tbody tr th {\n",
       "        vertical-align: top;\n",
       "    }\n",
       "\n",
       "    .dataframe thead th {\n",
       "        text-align: right;\n",
       "    }\n",
       "</style>\n",
       "<table border=\"1\" class=\"dataframe\">\n",
       "  <thead>\n",
       "    <tr style=\"text-align: right;\">\n",
       "      <th></th>\n",
       "      <th>시군</th>\n",
       "      <th>소재지지번</th>\n",
       "      <th>지목</th>\n",
       "      <th>면적</th>\n",
       "    </tr>\n",
       "  </thead>\n",
       "  <tbody>\n",
       "    <tr>\n",
       "      <th>0</th>\n",
       "      <td>삼척</td>\n",
       "      <td>강원삼척시도계읍늑구리109</td>\n",
       "      <td>잡종지</td>\n",
       "      <td>106</td>\n",
       "    </tr>\n",
       "    <tr>\n",
       "      <th>1</th>\n",
       "      <td>삼척</td>\n",
       "      <td>강원삼척시도계읍늑구리115</td>\n",
       "      <td>잡종지</td>\n",
       "      <td>188</td>\n",
       "    </tr>\n",
       "    <tr>\n",
       "      <th>2</th>\n",
       "      <td>삼척</td>\n",
       "      <td>강원삼척시도계읍늑구리123</td>\n",
       "      <td>대지</td>\n",
       "      <td>268</td>\n",
       "    </tr>\n",
       "    <tr>\n",
       "      <th>3</th>\n",
       "      <td>삼척</td>\n",
       "      <td>강원삼척시도계읍늑구리124</td>\n",
       "      <td>대지</td>\n",
       "      <td>463</td>\n",
       "    </tr>\n",
       "    <tr>\n",
       "      <th>4</th>\n",
       "      <td>삼척</td>\n",
       "      <td>강원삼척시도계읍늑구리161</td>\n",
       "      <td>대지</td>\n",
       "      <td>397</td>\n",
       "    </tr>\n",
       "    <tr>\n",
       "      <th>...</th>\n",
       "      <td>...</td>\n",
       "      <td>...</td>\n",
       "      <td>...</td>\n",
       "      <td>...</td>\n",
       "    </tr>\n",
       "    <tr>\n",
       "      <th>1391</th>\n",
       "      <td>보령</td>\n",
       "      <td>충남보령시성주면성주리202-2</td>\n",
       "      <td>잡종지</td>\n",
       "      <td>10</td>\n",
       "    </tr>\n",
       "    <tr>\n",
       "      <th>1392</th>\n",
       "      <td>보령</td>\n",
       "      <td>충남보령시성주면성주리228</td>\n",
       "      <td>잡종지</td>\n",
       "      <td>2711</td>\n",
       "    </tr>\n",
       "    <tr>\n",
       "      <th>1393</th>\n",
       "      <td>보령</td>\n",
       "      <td>충남보령시성주면성주리229</td>\n",
       "      <td>잡종지</td>\n",
       "      <td>3613</td>\n",
       "    </tr>\n",
       "    <tr>\n",
       "      <th>1394</th>\n",
       "      <td>보령</td>\n",
       "      <td>충남보령시성주면성주리230</td>\n",
       "      <td>잡종지</td>\n",
       "      <td>400</td>\n",
       "    </tr>\n",
       "    <tr>\n",
       "      <th>1396</th>\n",
       "      <td>보령</td>\n",
       "      <td>충남보령시성주면성주리265-64</td>\n",
       "      <td>잡종지</td>\n",
       "      <td>521</td>\n",
       "    </tr>\n",
       "  </tbody>\n",
       "</table>\n",
       "<p>701 rows × 4 columns</p>\n",
       "</div>"
      ],
      "text/plain": [
       "      시군              소재지지번   지목    면적\n",
       "0     삼척     강원삼척시도계읍늑구리109  잡종지   106\n",
       "1     삼척     강원삼척시도계읍늑구리115  잡종지   188\n",
       "2     삼척     강원삼척시도계읍늑구리123   대지   268\n",
       "3     삼척     강원삼척시도계읍늑구리124   대지   463\n",
       "4     삼척     강원삼척시도계읍늑구리161   대지   397\n",
       "...   ..                ...  ...   ...\n",
       "1391  보령   충남보령시성주면성주리202-2  잡종지    10\n",
       "1392  보령     충남보령시성주면성주리228  잡종지  2711\n",
       "1393  보령     충남보령시성주면성주리229  잡종지  3613\n",
       "1394  보령     충남보령시성주면성주리230  잡종지   400\n",
       "1396  보령  충남보령시성주면성주리265-64  잡종지   521\n",
       "\n",
       "[701 rows x 4 columns]"
      ]
     },
     "execution_count": 11,
     "metadata": {},
     "output_type": "execute_result"
    }
   ],
   "source": [
    "# 지목 中 대지 & 잡종지만 추출\n",
    "df = df[(df['지목']=='대지')|(df['지목']=='잡종지')]\n",
    "df"
   ]
  },
  {
   "cell_type": "code",
   "execution_count": 12,
   "metadata": {},
   "outputs": [
    {
     "data": {
      "text/html": [
       "<div>\n",
       "<style scoped>\n",
       "    .dataframe tbody tr th:only-of-type {\n",
       "        vertical-align: middle;\n",
       "    }\n",
       "\n",
       "    .dataframe tbody tr th {\n",
       "        vertical-align: top;\n",
       "    }\n",
       "\n",
       "    .dataframe thead th {\n",
       "        text-align: right;\n",
       "    }\n",
       "</style>\n",
       "<table border=\"1\" class=\"dataframe\">\n",
       "  <thead>\n",
       "    <tr style=\"text-align: right;\">\n",
       "      <th></th>\n",
       "      <th>시군</th>\n",
       "      <th>소재지지번</th>\n",
       "      <th>지목</th>\n",
       "      <th>면적</th>\n",
       "    </tr>\n",
       "  </thead>\n",
       "  <tbody>\n",
       "    <tr>\n",
       "      <th>0</th>\n",
       "      <td>삼척</td>\n",
       "      <td>강원삼척시도계읍늑구리109</td>\n",
       "      <td>잡종지</td>\n",
       "      <td>106</td>\n",
       "    </tr>\n",
       "    <tr>\n",
       "      <th>1</th>\n",
       "      <td>삼척</td>\n",
       "      <td>강원삼척시도계읍늑구리115</td>\n",
       "      <td>잡종지</td>\n",
       "      <td>188</td>\n",
       "    </tr>\n",
       "    <tr>\n",
       "      <th>2</th>\n",
       "      <td>삼척</td>\n",
       "      <td>강원삼척시도계읍늑구리123</td>\n",
       "      <td>대지</td>\n",
       "      <td>268</td>\n",
       "    </tr>\n",
       "    <tr>\n",
       "      <th>3</th>\n",
       "      <td>삼척</td>\n",
       "      <td>강원삼척시도계읍늑구리124</td>\n",
       "      <td>대지</td>\n",
       "      <td>463</td>\n",
       "    </tr>\n",
       "    <tr>\n",
       "      <th>4</th>\n",
       "      <td>삼척</td>\n",
       "      <td>강원삼척시도계읍늑구리161</td>\n",
       "      <td>대지</td>\n",
       "      <td>397</td>\n",
       "    </tr>\n",
       "    <tr>\n",
       "      <th>...</th>\n",
       "      <td>...</td>\n",
       "      <td>...</td>\n",
       "      <td>...</td>\n",
       "      <td>...</td>\n",
       "    </tr>\n",
       "    <tr>\n",
       "      <th>696</th>\n",
       "      <td>보령</td>\n",
       "      <td>충남보령시성주면성주리202-2</td>\n",
       "      <td>잡종지</td>\n",
       "      <td>10</td>\n",
       "    </tr>\n",
       "    <tr>\n",
       "      <th>697</th>\n",
       "      <td>보령</td>\n",
       "      <td>충남보령시성주면성주리228</td>\n",
       "      <td>잡종지</td>\n",
       "      <td>2711</td>\n",
       "    </tr>\n",
       "    <tr>\n",
       "      <th>698</th>\n",
       "      <td>보령</td>\n",
       "      <td>충남보령시성주면성주리229</td>\n",
       "      <td>잡종지</td>\n",
       "      <td>3613</td>\n",
       "    </tr>\n",
       "    <tr>\n",
       "      <th>699</th>\n",
       "      <td>보령</td>\n",
       "      <td>충남보령시성주면성주리230</td>\n",
       "      <td>잡종지</td>\n",
       "      <td>400</td>\n",
       "    </tr>\n",
       "    <tr>\n",
       "      <th>700</th>\n",
       "      <td>보령</td>\n",
       "      <td>충남보령시성주면성주리265-64</td>\n",
       "      <td>잡종지</td>\n",
       "      <td>521</td>\n",
       "    </tr>\n",
       "  </tbody>\n",
       "</table>\n",
       "<p>701 rows × 4 columns</p>\n",
       "</div>"
      ],
      "text/plain": [
       "     시군              소재지지번   지목    면적\n",
       "0    삼척     강원삼척시도계읍늑구리109  잡종지   106\n",
       "1    삼척     강원삼척시도계읍늑구리115  잡종지   188\n",
       "2    삼척     강원삼척시도계읍늑구리123   대지   268\n",
       "3    삼척     강원삼척시도계읍늑구리124   대지   463\n",
       "4    삼척     강원삼척시도계읍늑구리161   대지   397\n",
       "..   ..                ...  ...   ...\n",
       "696  보령   충남보령시성주면성주리202-2  잡종지    10\n",
       "697  보령     충남보령시성주면성주리228  잡종지  2711\n",
       "698  보령     충남보령시성주면성주리229  잡종지  3613\n",
       "699  보령     충남보령시성주면성주리230  잡종지   400\n",
       "700  보령  충남보령시성주면성주리265-64  잡종지   521\n",
       "\n",
       "[701 rows x 4 columns]"
      ]
     },
     "execution_count": 12,
     "metadata": {},
     "output_type": "execute_result"
    }
   ],
   "source": [
    "# 인덱스 리셋\n",
    "df = df.reset_index(drop=True)\n",
    "df"
   ]
  },
  {
   "cell_type": "code",
   "execution_count": 13,
   "metadata": {},
   "outputs": [
    {
     "data": {
      "text/plain": [
       "['삼척', '영월군', '정선군', '태백시', '평창군', '문경시', '봉화군', '화순', '보령']"
      ]
     },
     "execution_count": 13,
     "metadata": {},
     "output_type": "execute_result"
    }
   ],
   "source": [
    "# 유휴지 시군 파악\n",
    "df[\"시군\"].unique().tolist()"
   ]
  },
  {
   "cell_type": "code",
   "execution_count": 14,
   "metadata": {},
   "outputs": [
    {
     "data": {
      "text/plain": [
       "문경      6\n",
       "보령      5\n",
       "봉화      6\n",
       "삼척    252\n",
       "영월     65\n",
       "정선    100\n",
       "태백    231\n",
       "평창      4\n",
       "화순     32\n",
       "dtype: int64"
      ]
     },
     "execution_count": 14,
     "metadata": {},
     "output_type": "execute_result"
    }
   ],
   "source": [
    "# 시군 별 유휴지 개수 파악\n",
    "data_list = [\n",
    "    df[(df['시군']== '문경시')].shape[0],\n",
    "    df[(df['시군']== '보령')].shape[0],\n",
    "    df[(df['시군']== '봉화군')].shape[0],\n",
    "    df[(df['시군']== '삼척')].shape[0],\n",
    "    df[(df['시군']== '영월군')].shape[0],\n",
    "    df[(df['시군']== '정선군')].shape[0],\n",
    "    df[(df['시군']== '태백시')].shape[0],\n",
    "    df[(df['시군']== '평창군')].shape[0],\n",
    "    df[(df['시군']== '화순')].shape[0]\n",
    "]\n",
    "index_list = [\n",
    "    '문경', '보령', '봉화', '삼척', '영월', '정선', '태백', '평창', '화순'\n",
    "]\n",
    "land_count = Series(data=data_list, index=index_list)\n",
    "land_count"
   ]
  },
  {
   "cell_type": "code",
   "execution_count": 15,
   "metadata": {
    "scrolled": true
   },
   "outputs": [
    {
     "data": {
      "text/plain": [
       "<AxesSubplot:>"
      ]
     },
     "execution_count": 15,
     "metadata": {},
     "output_type": "execute_result"
    },
    {
     "data": {
      "image/png": "[encoded data removed]",
      "text/plain": [
       "<Figure size 360x360 with 1 Axes>"
      ]
     },
     "metadata": {
      "image/png": {
       "height": 317,
       "width": 321
      }
     },
     "output_type": "display_data"
    }
   ],
   "source": [
    "land_count.plot.bar(figsize=(5,5))"
   ]
  },
  {
   "cell_type": "code",
   "execution_count": 16,
   "metadata": {},
   "outputs": [
    {
     "data": {
      "text/plain": [
       "문경       730\n",
       "보령      7255\n",
       "봉화     12001\n",
       "삼척    124946\n",
       "영월     20897\n",
       "정선     20634\n",
       "태백     70801\n",
       "평창       645\n",
       "화순     18828\n",
       "dtype: int64"
      ]
     },
     "execution_count": 16,
     "metadata": {},
     "output_type": "execute_result"
    }
   ],
   "source": [
    "#df['면적'] = pd.to_numeric(df['면적'])\n",
    "area_list = [\n",
    "    df[(df['시군']== '문경시')]['면적'].sum(),\n",
    "    df[(df['시군']== '보령')]['면적'].sum(),\n",
    "    df[(df['시군']== '봉화군')]['면적'].sum(),\n",
    "    df[(df['시군']== '삼척')]['면적'].sum(),\n",
    "    df[(df['시군']== '영월군')]['면적'].sum(),\n",
    "    df[(df['시군']== '정선군')]['면적'].sum(),\n",
    "    df[(df['시군']== '태백시')]['면적'].sum(),\n",
    "    df[(df['시군']== '평창군')]['면적'].sum(),\n",
    "    df[(df['시군']== '화순')]['면적'].sum()\n",
    "]\n",
    "land_area = Series(data=area_list, index=index_list)\n",
    "land_area"
   ]
  },
  {
   "cell_type": "code",
   "execution_count": 17,
   "metadata": {
    "scrolled": true
   },
   "outputs": [
    {
     "data": {
      "text/plain": [
       "문경    71924\n",
       "보령    99234\n",
       "봉화    31232\n",
       "삼척    64393\n",
       "영월    38458\n",
       "정선    36059\n",
       "태백    42249\n",
       "평창    41212\n",
       "화순    62289\n",
       "dtype: int64"
      ]
     },
     "execution_count": 17,
     "metadata": {},
     "output_type": "execute_result"
    }
   ],
   "source": [
    "# 각 지역 인구수\n",
    "people_list = [71924, 99234, 31232, 64393, 38458, 36059, 42249, 41212, 62289]\n",
    "index_list = ['문경', '보령', '봉화', '삼척', '영월','정선', '태백','평창','화순']\n",
    "people = Series(data=people_list, index=index_list)\n",
    "people"
   ]
  },
  {
   "cell_type": "code",
   "execution_count": 18,
   "metadata": {},
   "outputs": [],
   "source": [
    "area_m = [500, 60.88, 31085, 67.8, 2142]"
   ]
  },
  {
   "cell_type": "code",
   "execution_count": 19,
   "metadata": {},
   "outputs": [
    {
     "data": {
      "text/plain": [
       "'res'"
      ]
     },
     "execution_count": 19,
     "metadata": {},
     "output_type": "execute_result"
    }
   ],
   "source": [
    "area_m = {#'hotel': 500,\n",
    "          'res' : 60.88,\n",
    "         'park': 31085,\n",
    "         'mart': 67.8}\n",
    "#         'parkinglot' : 2142}\n",
    "area_m = Series(area_m)\n",
    "area_m.index[0]"
   ]
  },
  {
   "cell_type": "code",
   "execution_count": 67,
   "metadata": {},
   "outputs": [
    {
     "name": "stdout",
     "output_type": "stream",
     "text": [
      "[6.5, 2.5, 6.0]\n",
      "[6.5, 2.5, 6.0]\n",
      "[7.5, 2.5, 5.0]\n",
      "[7.5, 2.5, 5.0]\n",
      "[6.5, 2.5, 6.0]\n",
      "[7.5, 2.5, 5.0]\n"
     ]
    }
   ],
   "source": [
    "\n",
    "# 문경시 유휴지 데이터\n",
    "\n",
    "df_mk = df[(df['시군']=='문경시')]\n",
    "df_mk = df_mk.reset_index(drop=True)\n",
    "\n",
    "\n",
    "for i in range(df_mk.shape[0]):\n",
    "    area_score = []       # '면적' 점수\n",
    "    count_score = []      # '필요개수' 점수\n",
    "    score = []\n",
    "    for j in range(3):\n",
    "        area_score.append(abs(area_m[j]-df_mk['면적'][i]))\n",
    "        count_score.append(add.loc['문경','hotel':][j])\n",
    "        \n",
    "    area_score = Series(area_score, index=['hotel','park','mart'])\n",
    "    area_score = area_score.rank(ascending=False)\n",
    "    \n",
    "    count_score = Series(count_score, index=['hotel', 'park', 'mart'])\n",
    "    count_score = count_score.rank()\n",
    "\n",
    "    #print(area_score)\n",
    "    #print(count_score)\n",
    "    for j in range(3):\n",
    "        score.append(area_score[j]+count_score[j]*1.5)\n",
    "\n",
    "    print(score)"
   ]
  },
  {
   "cell_type": "code",
   "execution_count": 136,
   "metadata": {},
   "outputs": [
    {
     "name": "stdout",
     "output_type": "stream",
     "text": [
      "[4.5, 4.0, 6.5]\n",
      "[3.5, 4.0, 7.5]\n",
      "[3.5, 4.0, 7.5]\n",
      "[3.5, 4.0, 7.5]\n",
      "[3.5, 4.0, 7.5]\n"
     ]
    }
   ],
   "source": [
    "df_br = df[(df['시군']=='보령')]\n",
    "df_br = df_br.reset_index(drop=True)\n",
    "\n",
    "for i in range(df_br.shape[0]):\n",
    "    area_score = []       # '면적' 점수\n",
    "    count_score = []      # '필요개수' 점수\n",
    "    score = []\n",
    "    for j in range(3):\n",
    "        area_score.append(abs(area_m[j]-df_br['면적'][i]))\n",
    "        count_score.append(add.loc['보령','restaurant':][j])\n",
    "        \n",
    "    area_score = Series(area_score, index=['res','park','mart'])\n",
    "    area_score = area_score.rank(ascending=False)\n",
    "    \n",
    "    count_score = Series(count_score, index=['res', 'park', 'mart'])\n",
    "    count_score = count_score.rank()\n",
    "\n",
    "#    print(area_score)\n",
    "#    print(count_score)\n",
    "    for j in range(3):\n",
    "        score.append(area_score[j]+count_score[j]*1.5)\n",
    "\n",
    "    print(score)\n"
   ]
  },
  {
   "cell_type": "code",
   "execution_count": 137,
   "metadata": {},
   "outputs": [
    {
     "name": "stdout",
     "output_type": "stream",
     "text": [
      "hotel    2.0\n",
      "park     1.0\n",
      "mart     3.0\n",
      "dtype: float64\n",
      "[6.5, 2.5, 6.0]\n",
      "hotel    2.0\n",
      "park     1.0\n",
      "mart     3.0\n",
      "dtype: float64\n",
      "[6.5, 2.5, 6.0]\n",
      "hotel    2.0\n",
      "park     1.0\n",
      "mart     3.0\n",
      "dtype: float64\n",
      "[6.5, 2.5, 6.0]\n",
      "hotel    2.0\n",
      "park     1.0\n",
      "mart     3.0\n",
      "dtype: float64\n",
      "[6.5, 2.5, 6.0]\n",
      "hotel    2.0\n",
      "park     1.0\n",
      "mart     3.0\n",
      "dtype: float64\n",
      "[6.5, 2.5, 6.0]\n",
      "hotel    2.0\n",
      "park     1.0\n",
      "mart     3.0\n",
      "dtype: float64\n",
      "[6.5, 2.5, 6.0]\n"
     ]
    }
   ],
   "source": [
    "df_bh = df[(df['시군']=='봉화군')]\n",
    "df_bh = df_bh.reset_index(drop=True)\n",
    "\n",
    "\n",
    "for i in range(df_bh.shape[0]):\n",
    "    area_score = []       # '면적' 점수\n",
    "    count_score = []      # '필요개수' 점수\n",
    "    score = []\n",
    "    for j in range(3):\n",
    "        area_score.append(abs(area_m[j]-df_bh['면적'][i]))\n",
    "        count_score.append(add.loc['봉화','hotel':][j])\n",
    "        \n",
    "    area_score = Series(area_score, index=['hotel','park','mart'])\n",
    "    area_score = area_score.rank(ascending=False)\n",
    "    \n",
    "    count_score = Series(count_score, index=['hotel', 'park', 'mart'])\n",
    "    count_score = count_score.rank()\n",
    "\n",
    "    print(area_score)\n",
    "#    print(count_score)\n",
    "    for j in range(3):\n",
    "        score.append(area_score[j]+count_score[j]*1.5)\n",
    "\n",
    "    print(score)"
   ]
  },
  {
   "cell_type": "code",
   "execution_count": 134,
   "metadata": {},
   "outputs": [
    {
     "name": "stdout",
     "output_type": "stream",
     "text": [
      "[6.5, 4.0, 4.5]\n",
      "[6.5, 4.0, 4.5]\n",
      "[6.5, 4.0, 4.5]\n",
      "[6.5, 4.0, 4.5]\n",
      "[6.5, 4.0, 4.5]\n",
      "[6.5, 4.0, 4.5]\n",
      "[6.5, 4.0, 4.5]\n",
      "[6.5, 4.0, 4.5]\n",
      "[6.5, 4.0, 4.5]\n",
      "[6.5, 4.0, 4.5]\n",
      "[6.5, 4.0, 4.5]\n",
      "[6.5, 4.0, 4.5]\n",
      "[7.5, 4.0, 3.5]\n",
      "[6.5, 4.0, 4.5]\n",
      "[6.5, 4.0, 4.5]\n",
      "[7.5, 4.0, 3.5]\n",
      "[7.5, 4.0, 3.5]\n",
      "[6.5, 4.0, 4.5]\n",
      "[6.5, 4.0, 4.5]\n",
      "[6.5, 4.0, 4.5]\n",
      "[6.5, 4.0, 4.5]\n",
      "[6.5, 4.0, 4.5]\n",
      "[6.5, 4.0, 4.5]\n",
      "[6.5, 4.0, 4.5]\n",
      "[6.5, 4.0, 4.5]\n",
      "[6.5, 4.0, 4.5]\n",
      "[6.5, 4.0, 4.5]\n",
      "[6.5, 4.0, 4.5]\n",
      "[6.5, 4.0, 4.5]\n",
      "[6.5, 4.0, 4.5]\n",
      "[6.5, 4.0, 4.5]\n",
      "[6.5, 4.0, 4.5]\n"
     ]
    }
   ],
   "source": [
    "df_hs = df[(df['시군']=='화순')]\n",
    "df_hs = df_hs.reset_index(drop=True)\n",
    "\n",
    "\n",
    "for i in range(df_hs.shape[0]):\n",
    "    area_score = []       # '면적' 점수\n",
    "    count_score = []      # '필요개수' 점수\n",
    "    score = []\n",
    "    for j in range(3):\n",
    "        area_score.append(abs(area_m[j]-df_hs['면적'][i]))\n",
    "        count_score.append(add.loc['화순','hotel':][j])\n",
    "        \n",
    "    area_score = Series(area_score, index=['hotel','mart','parkinglot'])\n",
    "    area_score = area_score.rank(ascending=False)\n",
    "    \n",
    "    count_score = Series(count_score, index=['hotel', 'mart', 'parkinglot'])\n",
    "    count_score = count_score.rank()\n",
    "\n",
    "#    print(area_score)\n",
    "#    print(count_score)\n",
    "    for j in range(3):\n",
    "        score.append(area_score[j]+count_score[j]*1.5)\n",
    "\n",
    "    print(score)"
   ]
  },
  {
   "cell_type": "code",
   "execution_count": 70,
   "metadata": {},
   "outputs": [
    {
     "ename": "UFuncTypeError",
     "evalue": "ufunc 'subtract' did not contain a loop with signature matching types (dtype('<U21'), dtype('<U21')) -> dtype('<U21')",
     "output_type": "error",
     "traceback": [
      "\u001b[1;31m---------------------------------------------------------------------------\u001b[0m",
      "\u001b[1;31mUFuncTypeError\u001b[0m                            Traceback (most recent call last)",
      "\u001b[1;32m<ipython-input-70-dee4b0e7f602>\u001b[0m in \u001b[0;36m<module>\u001b[1;34m\u001b[0m\n\u001b[0;32m      4\u001b[0m \u001b[1;32mfor\u001b[0m \u001b[0mi\u001b[0m \u001b[1;32min\u001b[0m \u001b[0mrange\u001b[0m\u001b[1;33m(\u001b[0m\u001b[0mdf_mk\u001b[0m\u001b[1;33m.\u001b[0m\u001b[0mshape\u001b[0m\u001b[1;33m[\u001b[0m\u001b[1;36m0\u001b[0m\u001b[1;33m]\u001b[0m\u001b[1;33m)\u001b[0m\u001b[1;33m:\u001b[0m\u001b[1;33m\u001b[0m\u001b[1;33m\u001b[0m\u001b[0m\n\u001b[0;32m      5\u001b[0m     \u001b[1;32mfor\u001b[0m \u001b[0mj\u001b[0m \u001b[1;32min\u001b[0m \u001b[0mrange\u001b[0m\u001b[1;33m(\u001b[0m\u001b[1;36m2\u001b[0m\u001b[1;33m)\u001b[0m\u001b[1;33m:\u001b[0m\u001b[1;33m\u001b[0m\u001b[1;33m\u001b[0m\u001b[0m\n\u001b[1;32m----> 6\u001b[1;33m         \u001b[1;32mif\u001b[0m \u001b[0mabs\u001b[0m\u001b[1;33m(\u001b[0m\u001b[0marea_m\u001b[0m\u001b[1;33m.\u001b[0m\u001b[0mindex\u001b[0m\u001b[1;33m[\u001b[0m\u001b[0mj\u001b[0m\u001b[1;33m]\u001b[0m \u001b[1;33m-\u001b[0m \u001b[0mdf_mk\u001b[0m\u001b[1;33m[\u001b[0m\u001b[1;34m'면적'\u001b[0m\u001b[1;33m]\u001b[0m\u001b[1;33m[\u001b[0m\u001b[0mi\u001b[0m\u001b[1;33m]\u001b[0m\u001b[1;33m)\u001b[0m \u001b[1;33m>\u001b[0m \u001b[0mabs\u001b[0m\u001b[1;33m(\u001b[0m\u001b[0marea_m\u001b[0m\u001b[1;33m.\u001b[0m\u001b[0mindex\u001b[0m\u001b[1;33m[\u001b[0m\u001b[0mj\u001b[0m\u001b[1;33m+\u001b[0m\u001b[1;36m1\u001b[0m\u001b[1;33m]\u001b[0m \u001b[1;33m-\u001b[0m \u001b[0mdf_mk\u001b[0m\u001b[1;33m[\u001b[0m\u001b[1;34m'면적'\u001b[0m\u001b[1;33m]\u001b[0m\u001b[1;33m[\u001b[0m\u001b[0mi\u001b[0m\u001b[1;33m]\u001b[0m\u001b[1;33m)\u001b[0m\u001b[1;33m:\u001b[0m\u001b[1;33m\u001b[0m\u001b[1;33m\u001b[0m\u001b[0m\n\u001b[0m\u001b[0;32m      7\u001b[0m             \u001b[0marea_score\u001b[0m\u001b[1;33m.\u001b[0m\u001b[0mappend\u001b[0m\u001b[1;33m(\u001b[0m\u001b[0mj\u001b[0m\u001b[1;33m+\u001b[0m\u001b[1;36m1\u001b[0m\u001b[1;33m,\u001b[0m\u001b[0mj\u001b[0m\u001b[1;33m)\u001b[0m\u001b[1;33m\u001b[0m\u001b[1;33m\u001b[0m\u001b[0m\n\u001b[0;32m      8\u001b[0m             \u001b[0marea_score\u001b[0m\u001b[1;33m.\u001b[0m\u001b[0mappend\u001b[0m\u001b[1;33m(\u001b[0m\u001b[0mj\u001b[0m\u001b[1;33m,\u001b[0m\u001b[0mj\u001b[0m\u001b[1;33m+\u001b[0m\u001b[1;36m1\u001b[0m\u001b[1;33m)\u001b[0m\u001b[1;33m\u001b[0m\u001b[1;33m\u001b[0m\u001b[0m\n",
      "\u001b[1;31mUFuncTypeError\u001b[0m: ufunc 'subtract' did not contain a loop with signature matching types (dtype('<U21'), dtype('<U21')) -> dtype('<U21')"
     ]
    }
   ],
   "source": [
    "df_mk = df[(df['시군']=='문경시')]\n",
    "df_mk = df_mk.reset_index(drop=True)\n",
    "\n",
    "area_score = []\n",
    "for i in range(df_mk.shape[0]):\n",
    "    for j in range(2):\n",
    "        if abs(area_m.index[j] - df_mk['면적'][i]) > abs(area_m.index[j+1] - df_mk['면적'][i]):\n",
    "            area_score.append(j+1,j)\n",
    "            area_score.append(j,j+1)\n",
    "        else:\n",
    "            area_score.append(j+1,j)\n",
    "            area_score.append(j,j+1)\n",
    "area_score"
   ]
  },
  {
   "cell_type": "code",
   "execution_count": 21,
   "metadata": {},
   "outputs": [],
   "source": [
    "import folium"
   ]
  },
  {
   "cell_type": "code",
   "execution_count": 22,
   "metadata": {},
   "outputs": [
    {
     "name": "stdout",
     "output_type": "stream",
     "text": [
      "35.0126\n"
     ]
    },
    {
     "data": {
      "text/html": [
       "<div>\n",
       "<style scoped>\n",
       "    .dataframe tbody tr th:only-of-type {\n",
       "        vertical-align: middle;\n",
       "    }\n",
       "\n",
       "    .dataframe tbody tr th {\n",
       "        vertical-align: top;\n",
       "    }\n",
       "\n",
       "    .dataframe thead th {\n",
       "        text-align: right;\n",
       "    }\n",
       "</style>\n",
       "<table border=\"1\" class=\"dataframe\">\n",
       "  <thead>\n",
       "    <tr style=\"text-align: right;\">\n",
       "      <th></th>\n",
       "      <th>0</th>\n",
       "      <th>위도</th>\n",
       "      <th>경도</th>\n",
       "    </tr>\n",
       "  </thead>\n",
       "  <tbody>\n",
       "    <tr>\n",
       "      <th>문경</th>\n",
       "      <td>6</td>\n",
       "      <td>36.6918</td>\n",
       "      <td>128.1502</td>\n",
       "    </tr>\n",
       "    <tr>\n",
       "      <th>보령</th>\n",
       "      <td>5</td>\n",
       "      <td>36.3319</td>\n",
       "      <td>126.6120</td>\n",
       "    </tr>\n",
       "    <tr>\n",
       "      <th>봉화</th>\n",
       "      <td>6</td>\n",
       "      <td>36.9345</td>\n",
       "      <td>128.9193</td>\n",
       "    </tr>\n",
       "    <tr>\n",
       "      <th>삼척</th>\n",
       "      <td>252</td>\n",
       "      <td>37.2814</td>\n",
       "      <td>129.1597</td>\n",
       "    </tr>\n",
       "    <tr>\n",
       "      <th>영월</th>\n",
       "      <td>65</td>\n",
       "      <td>37.1880</td>\n",
       "      <td>128.5194</td>\n",
       "    </tr>\n",
       "    <tr>\n",
       "      <th>정선</th>\n",
       "      <td>100</td>\n",
       "      <td>37.3810</td>\n",
       "      <td>128.7345</td>\n",
       "    </tr>\n",
       "    <tr>\n",
       "      <th>태백</th>\n",
       "      <td>231</td>\n",
       "      <td>37.1740</td>\n",
       "      <td>128.9788</td>\n",
       "    </tr>\n",
       "    <tr>\n",
       "      <th>평창</th>\n",
       "      <td>4</td>\n",
       "      <td>37.5617</td>\n",
       "      <td>128.4795</td>\n",
       "    </tr>\n",
       "    <tr>\n",
       "      <th>화순</th>\n",
       "      <td>32</td>\n",
       "      <td>35.0126</td>\n",
       "      <td>127.0342</td>\n",
       "    </tr>\n",
       "  </tbody>\n",
       "</table>\n",
       "</div>"
      ],
      "text/plain": [
       "      0       위도        경도\n",
       "문경    6  36.6918  128.1502\n",
       "보령    5  36.3319  126.6120\n",
       "봉화    6  36.9345  128.9193\n",
       "삼척  252  37.2814  129.1597\n",
       "영월   65  37.1880  128.5194\n",
       "정선  100  37.3810  128.7345\n",
       "태백  231  37.1740  128.9788\n",
       "평창    4  37.5617  128.4795\n",
       "화순   32  35.0126  127.0342"
      ]
     },
     "execution_count": 22,
     "metadata": {},
     "output_type": "execute_result"
    }
   ],
   "source": [
    "unused_land = pd.DataFrame(land_count)\n",
    "unused_land['위도'] = [36.6918,36.3319,36.9345,37.2814,37.1880,37.3810,37.1740,37.5617,35.0126]\n",
    "unused_land['경도'] = [128.1502,126.6120,128.9193,129.1597,128.5194,128.7345,128.9788,128.4795,127.0342]\n",
    "print(unused_land[\"위도\"][8])\n",
    "unused_land\n"
   ]
  },
  {
   "cell_type": "code",
   "execution_count": 23,
   "metadata": {},
   "outputs": [
    {
     "data": {
      "text/html": [
       "<div style=\"width:100%;\"><div style=\"position:relative;width:100%;height:0;padding-bottom:60%;\"><span style=\"color:#565656\">Make this Notebook Trusted to load map: File -> Trust Notebook</span><iframe src=\"about:blank\" style=\"position:absolute;width:100%;height:100%;left:0;top:0;border:none !important;\" data-html=PCFET0NUWVBFIGh0bWw+CjxoZWFkPiAgICAKICAgIDxtZXRhIGh0dHAtZXF1aXY9ImNvbnRlbnQtdHlwZSIgY29udGVudD0idGV4dC9odG1sOyBjaGFyc2V0PVVURi04IiAvPgogICAgCiAgICAgICAgPHNjcmlwdD4KICAgICAgICAgICAgTF9OT19UT1VDSCA9IGZhbHNlOwogICAgICAgICAgICBMX0RJU0FCTEVfM0QgPSBmYWxzZTsKICAgICAgICA8L3NjcmlwdD4KICAgIAogICAgPHNjcmlwdCBzcmM9Imh0dHBzOi8vY2RuLmpzZGVsaXZyLm5ldC9ucG0vbGVhZmxldEAxLjYuMC9kaXN0L2xlYWZsZXQuanMiPjwvc2NyaXB0PgogICAgPHNjcmlwdCBzcmM9Imh0dHBzOi8vY29kZS5qcXVlcnkuY29tL2pxdWVyeS0xLjEyLjQubWluLmpzIj48L3NjcmlwdD4KICAgIDxzY3JpcHQgc3JjPSJodHRwczovL21heGNkbi5ib290c3RyYXBjZG4uY29tL2Jvb3RzdHJhcC8zLjIuMC9qcy9ib290c3RyYXAubWluLmpzIj48L3NjcmlwdD4KICAgIDxzY3JpcHQgc3JjPSJodHRwczovL2NkbmpzLmNsb3VkZmxhcmUuY29tL2FqYXgvbGlicy9MZWFmbGV0LmF3ZXNvbWUtbWFya2Vycy8yLjAuMi9sZWFmbGV0LmF3ZXNvbWUtbWFya2Vycy5qcyI+PC9zY3JpcHQ+CiAgICA8bGluayByZWw9InN0eWxlc2hlZXQiIGhyZWY9Imh0dHBzOi8vY2RuLmpzZGVsaXZyLm5ldC9ucG0vbGVhZmxldEAxLjYuMC9kaXN0L2xlYWZsZXQuY3NzIi8+CiAgICA8bGluayByZWw9InN0eWxlc2hlZXQiIGhyZWY9Imh0dHBzOi8vbWF4Y2RuLmJvb3RzdHJhcGNkbi5jb20vYm9vdHN0cmFwLzMuMi4wL2Nzcy9ib290c3RyYXAubWluLmNzcyIvPgogICAgPGxpbmsgcmVsPSJzdHlsZXNoZWV0IiBocmVmPSJodHRwczovL21heGNkbi5ib290c3RyYXBjZG4uY29tL2Jvb3RzdHJhcC8zLjIuMC9jc3MvYm9vdHN0cmFwLXRoZW1lLm1pbi5jc3MiLz4KICAgIDxsaW5rIHJlbD0ic3R5bGVzaGVldCIgaHJlZj0iaHR0cHM6Ly9tYXhjZG4uYm9vdHN0cmFwY2RuLmNvbS9mb250LWF3ZXNvbWUvNC42LjMvY3NzL2ZvbnQtYXdlc29tZS5taW4uY3NzIi8+CiAgICA8bGluayByZWw9InN0eWxlc2hlZXQiIGhyZWY9Imh0dHBzOi8vY2RuanMuY2xvdWRmbGFyZS5jb20vYWpheC9saWJzL0xlYWZsZXQuYXdlc29tZS1tYXJrZXJzLzIuMC4yL2xlYWZsZXQuYXdlc29tZS1tYXJrZXJzLmNzcyIvPgogICAgPGxpbmsgcmVsPSJzdHlsZXNoZWV0IiBocmVmPSJodHRwczovL3Jhd2Nkbi5naXRoYWNrLmNvbS9weXRob24tdmlzdWFsaXphdGlvbi9mb2xpdW0vbWFzdGVyL2ZvbGl1bS90ZW1wbGF0ZXMvbGVhZmxldC5hd2Vzb21lLnJvdGF0ZS5jc3MiLz4KICAgIDxzdHlsZT5odG1sLCBib2R5IHt3aWR0aDogMTAwJTtoZWlnaHQ6IDEwMCU7bWFyZ2luOiAwO3BhZGRpbmc6IDA7fTwvc3R5bGU+CiAgICA8c3R5bGU+I21hcCB7cG9zaXRpb246YWJzb2x1dGU7dG9wOjA7Ym90dG9tOjA7cmlnaHQ6MDtsZWZ0OjA7fTwvc3R5bGU+CiAgICAKICAgICAgICAgICAgPG1ldGEgbmFtZT0idmlld3BvcnQiIGNvbnRlbnQ9IndpZHRoPWRldmljZS13aWR0aCwKICAgICAgICAgICAgICAgIGluaXRpYWwtc2NhbGU9MS4wLCBtYXhpbXVtLXNjYWxlPTEuMCwgdXNlci1zY2FsYWJsZT1ubyIgLz4KICAgICAgICAgICAgPHN0eWxlPgogICAgICAgICAgICAgICAgI21hcF8yYWQ5ZjdkNmE5NGU0YzFiYWIyYmFiMGYyOTM4NDcxMCB7CiAgICAgICAgICAgICAgICAgICAgcG9zaXRpb246IHJlbGF0aXZlOwogICAgICAgICAgICAgICAgICAgIHdpZHRoOiAxMDAuMCU7CiAgICAgICAgICAgICAgICAgICAgaGVpZ2h0OiAxMDAuMCU7CiAgICAgICAgICAgICAgICAgICAgbGVmdDogMC4wJTsKICAgICAgICAgICAgICAgICAgICB0b3A6IDAuMCU7CiAgICAgICAgICAgICAgICB9CiAgICAgICAgICAgIDwvc3R5bGU+CiAgICAgICAgCjwvaGVhZD4KPGJvZHk+ICAgIAogICAgCiAgICAgICAgICAgIDxkaXYgY2xhc3M9ImZvbGl1bS1tYXAiIGlkPSJtYXBfMmFkOWY3ZDZhOTRlNGMxYmFiMmJhYjBmMjkzODQ3MTAiID48L2Rpdj4KICAgICAgICAKPC9ib2R5Pgo8c2NyaXB0PiAgICAKICAgIAogICAgICAgICAgICB2YXIgbWFwXzJhZDlmN2Q2YTk0ZTRjMWJhYjJiYWIwZjI5Mzg0NzEwID0gTC5tYXAoCiAgICAgICAgICAgICAgICAibWFwXzJhZDlmN2Q2YTk0ZTRjMWJhYjJiYWIwZjI5Mzg0NzEwIiwKICAgICAgICAgICAgICAgIHsKICAgICAgICAgICAgICAgICAgICBjZW50ZXI6IFszNy4wLCAxMjcuMF0sCiAgICAgICAgICAgICAgICAgICAgY3JzOiBMLkNSUy5FUFNHMzg1NywKICAgICAgICAgICAgICAgICAgICB6b29tOiA3LAogICAgICAgICAgICAgICAgICAgIHpvb21Db250cm9sOiB0cnVlLAogICAgICAgICAgICAgICAgICAgIHByZWZlckNhbnZhczogZmFsc2UsCiAgICAgICAgICAgICAgICB9CiAgICAgICAgICAgICk7CgogICAgICAgICAgICAKCiAgICAgICAgCiAgICAKICAgICAgICAgICAgdmFyIHRpbGVfbGF5ZXJfNDQ1YzlkMGQyNGRkNDI5N2EwY2NlY2M3ZDBkMTZiYzAgPSBMLnRpbGVMYXllcigKICAgICAgICAgICAgICAgICJodHRwczovL3tzfS50aWxlLm9wZW5zdHJlZXRtYXAub3JnL3t6fS97eH0ve3l9LnBuZyIsCiAgICAgICAgICAgICAgICB7ImF0dHJpYnV0aW9uIjogIkRhdGEgYnkgXHUwMDI2Y29weTsgXHUwMDNjYSBocmVmPVwiaHR0cDovL29wZW5zdHJlZXRtYXAub3JnXCJcdTAwM2VPcGVuU3RyZWV0TWFwXHUwMDNjL2FcdTAwM2UsIHVuZGVyIFx1MDAzY2EgaHJlZj1cImh0dHA6Ly93d3cub3BlbnN0cmVldG1hcC5vcmcvY29weXJpZ2h0XCJcdTAwM2VPRGJMXHUwMDNjL2FcdTAwM2UuIiwgImRldGVjdFJldGluYSI6IGZhbHNlLCAibWF4TmF0aXZlWm9vbSI6IDE4LCAibWF4Wm9vbSI6IDE4LCAibWluWm9vbSI6IDAsICJub1dyYXAiOiBmYWxzZSwgIm9wYWNpdHkiOiAxLCAic3ViZG9tYWlucyI6ICJhYmMiLCAidG1zIjogZmFsc2V9CiAgICAgICAgICAgICkuYWRkVG8obWFwXzJhZDlmN2Q2YTk0ZTRjMWJhYjJiYWIwZjI5Mzg0NzEwKTsKICAgICAgICAKICAgIAogICAgICAgICAgICB2YXIgY2lyY2xlX21hcmtlcl8zZDBhNDU0OTQzNGI0ZTE4ODQ2ODRkMzA4M2Q2MGRiNCA9IEwuY2lyY2xlTWFya2VyKAogICAgICAgICAgICAgICAgWzM2LjY5MTgsIDEyOC4xNTAyXSwKICAgICAgICAgICAgICAgIHsiYnViYmxpbmdNb3VzZUV2ZW50cyI6IHRydWUsICJjb2xvciI6ICJjcmltc29uIiwgImRhc2hBcnJheSI6IG51bGwsICJkYXNoT2Zmc2V0IjogbnVsbCwgImZpbGwiOiB0cnVlLCAiZmlsbENvbG9yIjogImNyaW1zb24iLCAiZmlsbE9wYWNpdHkiOiAwLjIsICJmaWxsUnVsZSI6ICJldmVub2RkIiwgImxpbmVDYXAiOiAicm91bmQiLCAibGluZUpvaW4iOiAicm91bmQiLCAib3BhY2l0eSI6IDEuMCwgInJhZGl1cyI6IDIuNDQ5NDg5NzQyNzgzMTc4LCAic3Ryb2tlIjogdHJ1ZSwgIndlaWdodCI6IDN9CiAgICAgICAgICAgICkuYWRkVG8obWFwXzJhZDlmN2Q2YTk0ZTRjMWJhYjJiYWIwZjI5Mzg0NzEwKTsKICAgICAgICAKICAgIAogICAgICAgICAgICB2YXIgY2lyY2xlX21hcmtlcl83OTVjODdiYzFkZWM0YTMxOTZhYjVmNTg2MWQ1N2U2NCA9IEwuY2lyY2xlTWFya2VyKAogICAgICAgICAgICAgICAgWzM2LjMzMTksIDEyNi42MTJdLAogICAgICAgICAgICAgICAgeyJidWJibGluZ01vdXNlRXZlbnRzIjogdHJ1ZSwgImNvbG9yIjogImNyaW1zb24iLCAiZGFzaEFycmF5IjogbnVsbCwgImRhc2hPZmZzZXQiOiBudWxsLCAiZmlsbCI6IHRydWUsICJmaWxsQ29sb3IiOiAiY3JpbXNvbiIsICJmaWxsT3BhY2l0eSI6IDAuMiwgImZpbGxSdWxlIjogImV2ZW5vZGQiLCAibGluZUNhcCI6ICJyb3VuZCIsICJsaW5lSm9pbiI6ICJyb3VuZCIsICJvcGFjaXR5IjogMS4wLCAicmFkaXVzIjogMi4yMzYwNjc5Nzc0OTk3OSwgInN0cm9rZSI6IHRydWUsICJ3ZWlnaHQiOiAzfQogICAgICAgICAgICApLmFkZFRvKG1hcF8yYWQ5ZjdkNmE5NGU0YzFiYWIyYmFiMGYyOTM4NDcxMCk7CiAgICAgICAgCiAgICAKICAgICAgICAgICAgdmFyIGNpcmNsZV9tYXJrZXJfNDMzZGQ4OTAxNjA4NDQ5YTk0ZDY4MjNlZmI3MzM0OGIgPSBMLmNpcmNsZU1hcmtlcigKICAgICAgICAgICAgICAgIFszNi45MzQ1LCAxMjguOTE5M10sCiAgICAgICAgICAgICAgICB7ImJ1YmJsaW5nTW91c2VFdmVudHMiOiB0cnVlLCAiY29sb3IiOiAiY3JpbXNvbiIsICJkYXNoQXJyYXkiOiBudWxsLCAiZGFzaE9mZnNldCI6IG51bGwsICJmaWxsIjogdHJ1ZSwgImZpbGxDb2xvciI6ICJjcmltc29uIiwgImZpbGxPcGFjaXR5IjogMC4yLCAiZmlsbFJ1bGUiOiAiZXZlbm9kZCIsICJsaW5lQ2FwIjogInJvdW5kIiwgImxpbmVKb2luIjogInJvdW5kIiwgIm9wYWNpdHkiOiAxLjAsICJyYWRpdXMiOiAyLjQ0OTQ4OTc0Mjc4MzE3OCwgInN0cm9rZSI6IHRydWUsICJ3ZWlnaHQiOiAzfQogICAgICAgICAgICApLmFkZFRvKG1hcF8yYWQ5ZjdkNmE5NGU0YzFiYWIyYmFiMGYyOTM4NDcxMCk7CiAgICAgICAgCiAgICAKICAgICAgICAgICAgdmFyIGNpcmNsZV9tYXJrZXJfNjg1Y2Y5YzYwN2JmNDI2OGE1ZDQxMjZkMmMyMjhjYTMgPSBMLmNpcmNsZU1hcmtlcigKICAgICAgICAgICAgICAgIFszNy4yODE0LCAxMjkuMTU5N10sCiAgICAgICAgICAgICAgICB7ImJ1YmJsaW5nTW91c2VFdmVudHMiOiB0cnVlLCAiY29sb3IiOiAiY3JpbXNvbiIsICJkYXNoQXJyYXkiOiBudWxsLCAiZGFzaE9mZnNldCI6IG51bGwsICJmaWxsIjogdHJ1ZSwgImZpbGxDb2xvciI6ICJjcmltc29uIiwgImZpbGxPcGFjaXR5IjogMC4yLCAiZmlsbFJ1bGUiOiAiZXZlbm9kZCIsICJsaW5lQ2FwIjogInJvdW5kIiwgImxpbmVKb2luIjogInJvdW5kIiwgIm9wYWNpdHkiOiAxLjAsICJyYWRpdXMiOiAxNS44NzQ1MDc4NjYzODc1NDQsICJzdHJva2UiOiB0cnVlLCAid2VpZ2h0IjogM30KICAgICAgICAgICAgKS5hZGRUbyhtYXBfMmFkOWY3ZDZhOTRlNGMxYmFiMmJhYjBmMjkzODQ3MTApOwogICAgICAgIAogICAgCiAgICAgICAgICAgIHZhciBjaXJjbGVfbWFya2VyXzNkZGUwODEwYzVhNjRhYzc5MzM1MmU4MmY1ZjExNjQ1ID0gTC5jaXJjbGVNYXJrZXIoCiAgICAgICAgICAgICAgICBbMzcuMTg4LCAxMjguNTE5NF0sCiAgICAgICAgICAgICAgICB7ImJ1YmJsaW5nTW91c2VFdmVudHMiOiB0cnVlLCAiY29sb3IiOiAiY3JpbXNvbiIsICJkYXNoQXJyYXkiOiBudWxsLCAiZGFzaE9mZnNldCI6IG51bGwsICJmaWxsIjogdHJ1ZSwgImZpbGxDb2xvciI6ICJjcmltc29uIiwgImZpbGxPcGFjaXR5IjogMC4yLCAiZmlsbFJ1bGUiOiAiZXZlbm9kZCIsICJsaW5lQ2FwIjogInJvdW5kIiwgImxpbmVKb2luIjogInJvdW5kIiwgIm9wYWNpdHkiOiAxLjAsICJyYWRpdXMiOiA4LjA2MjI1Nzc0ODI5ODU1LCAic3Ryb2tlIjogdHJ1ZSwgIndlaWdodCI6IDN9CiAgICAgICAgICAgICkuYWRkVG8obWFwXzJhZDlmN2Q2YTk0ZTRjMWJhYjJiYWIwZjI5Mzg0NzEwKTsKICAgICAgICAKICAgIAogICAgICAgICAgICB2YXIgY2lyY2xlX21hcmtlcl9iODVlNzA3ZTYyOTA0NTBkOWU1Yjg3YTVlOGE3NWJjNiA9IEwuY2lyY2xlTWFya2VyKAogICAgICAgICAgICAgICAgWzM3LjM4MSwgMTI4LjczNDVdLAogICAgICAgICAgICAgICAgeyJidWJibGluZ01vdXNlRXZlbnRzIjogdHJ1ZSwgImNvbG9yIjogImNyaW1zb24iLCAiZGFzaEFycmF5IjogbnVsbCwgImRhc2hPZmZzZXQiOiBudWxsLCAiZmlsbCI6IHRydWUsICJmaWxsQ29sb3IiOiAiY3JpbXNvbiIsICJmaWxsT3BhY2l0eSI6IDAuMiwgImZpbGxSdWxlIjogImV2ZW5vZGQiLCAibGluZUNhcCI6ICJyb3VuZCIsICJsaW5lSm9pbiI6ICJyb3VuZCIsICJvcGFjaXR5IjogMS4wLCAicmFkaXVzIjogMTAuMCwgInN0cm9rZSI6IHRydWUsICJ3ZWlnaHQiOiAzfQogICAgICAgICAgICApLmFkZFRvKG1hcF8yYWQ5ZjdkNmE5NGU0YzFiYWIyYmFiMGYyOTM4NDcxMCk7CiAgICAgICAgCiAgICAKICAgICAgICAgICAgdmFyIGNpcmNsZV9tYXJrZXJfYmE1YjNkMDNiNjI1NDJmNWI4ZTIzYTNmZmVjNTFlNWUgPSBMLmNpcmNsZU1hcmtlcigKICAgICAgICAgICAgICAgIFszNy4xNzQsIDEyOC45Nzg4XSwKICAgICAgICAgICAgICAgIHsiYnViYmxpbmdNb3VzZUV2ZW50cyI6IHRydWUsICJjb2xvciI6ICJjcmltc29uIiwgImRhc2hBcnJheSI6IG51bGwsICJkYXNoT2Zmc2V0IjogbnVsbCwgImZpbGwiOiB0cnVlLCAiZmlsbENvbG9yIjogImNyaW1zb24iLCAiZmlsbE9wYWNpdHkiOiAwLjIsICJmaWxsUnVsZSI6ICJldmVub2RkIiwgImxpbmVDYXAiOiAicm91bmQiLCAibGluZUpvaW4iOiAicm91bmQiLCAib3BhY2l0eSI6IDEuMCwgInJhZGl1cyI6IDE1LjE5ODY4NDE1MzU3MDY2NCwgInN0cm9rZSI6IHRydWUsICJ3ZWlnaHQiOiAzfQogICAgICAgICAgICApLmFkZFRvKG1hcF8yYWQ5ZjdkNmE5NGU0YzFiYWIyYmFiMGYyOTM4NDcxMCk7CiAgICAgICAgCiAgICAKICAgICAgICAgICAgdmFyIGNpcmNsZV9tYXJrZXJfM2ZjMTA5YjQ2YWJmNDE3Nzk2NTYzMWM4OTMxNmNjOTMgPSBMLmNpcmNsZU1hcmtlcigKICAgICAgICAgICAgICAgIFszNy41NjE3LCAxMjguNDc5NV0sCiAgICAgICAgICAgICAgICB7ImJ1YmJsaW5nTW91c2VFdmVudHMiOiB0cnVlLCAiY29sb3IiOiAiY3JpbXNvbiIsICJkYXNoQXJyYXkiOiBudWxsLCAiZGFzaE9mZnNldCI6IG51bGwsICJmaWxsIjogdHJ1ZSwgImZpbGxDb2xvciI6ICJjcmltc29uIiwgImZpbGxPcGFjaXR5IjogMC4yLCAiZmlsbFJ1bGUiOiAiZXZlbm9kZCIsICJsaW5lQ2FwIjogInJvdW5kIiwgImxpbmVKb2luIjogInJvdW5kIiwgIm9wYWNpdHkiOiAxLjAsICJyYWRpdXMiOiAyLjAsICJzdHJva2UiOiB0cnVlLCAid2VpZ2h0IjogM30KICAgICAgICAgICAgKS5hZGRUbyhtYXBfMmFkOWY3ZDZhOTRlNGMxYmFiMmJhYjBmMjkzODQ3MTApOwogICAgICAgIAogICAgCiAgICAgICAgICAgIHZhciBjaXJjbGVfbWFya2VyXzkyYjdkM2VlNzc1MjQ0NzRhMTkyN2IyNTY2NTkzMDdjID0gTC5jaXJjbGVNYXJrZXIoCiAgICAgICAgICAgICAgICBbMzUuMDEyNiwgMTI3LjAzNDJdLAogICAgICAgICAgICAgICAgeyJidWJibGluZ01vdXNlRXZlbnRzIjogdHJ1ZSwgImNvbG9yIjogImNyaW1zb24iLCAiZGFzaEFycmF5IjogbnVsbCwgImRhc2hPZmZzZXQiOiBudWxsLCAiZmlsbCI6IHRydWUsICJmaWxsQ29sb3IiOiAiY3JpbXNvbiIsICJmaWxsT3BhY2l0eSI6IDAuMiwgImZpbGxSdWxlIjogImV2ZW5vZGQiLCAibGluZUNhcCI6ICJyb3VuZCIsICJsaW5lSm9pbiI6ICJyb3VuZCIsICJvcGFjaXR5IjogMS4wLCAicmFkaXVzIjogNS42NTY4NTQyNDk0OTIzODEsICJzdHJva2UiOiB0cnVlLCAid2VpZ2h0IjogM30KICAgICAgICAgICAgKS5hZGRUbyhtYXBfMmFkOWY3ZDZhOTRlNGMxYmFiMmJhYjBmMjkzODQ3MTApOwogICAgICAgIAo8L3NjcmlwdD4= onload=\"this.contentDocument.open();this.contentDocument.write(atob(this.getAttribute('data-html')));this.contentDocument.close();\" allowfullscreen webkitallowfullscreen mozallowfullscreen></iframe></div></div>"
      ],
      "text/plain": [
       "<folium.folium.Map at 0x20bf233bec8>"
      ]
     },
     "execution_count": 23,
     "metadata": {},
     "output_type": "execute_result"
    }
   ],
   "source": [
    "center = [37, 127]\n",
    "m = folium.Map(location = center, zoom_start = 7)\n",
    "for i in range(9):\n",
    "    sub_lat = unused_land[\"위도\"][i]\n",
    "    sub_long = unused_land[\"경도\"][i]\n",
    "    count = unused_land[0][i]\n",
    "    \n",
    "    folium.CircleMarker(\n",
    "        radius = np.sqrt(count),\n",
    "        location = [sub_lat, sub_long],\n",
    "        color = 'crimson',\n",
    "        fill = True).add_to(m)\n",
    "m"
   ]
  },
  {
   "cell_type": "markdown",
   "metadata": {},
   "source": [
    "# 숙박시설"
   ]
  },
  {
   "cell_type": "code",
   "execution_count": 24,
   "metadata": {},
   "outputs": [],
   "source": [
    "# 지역별 숙박시설 데이터\n",
    "mk_hotel = pd.read_csv('문경숙박.csv', encoding='cp949')\n",
    "br_hotel = pd.read_csv('보령숙박.csv', encoding='cp949')\n",
    "bh_hotel = pd.read_csv('봉화숙박.csv', encoding='cp949')\n",
    "sc_hotel = pd.read_csv('삼척숙박.csv', encoding='cp949')\n",
    "yw_hotel = pd.read_csv('영월숙박.csv', encoding='cp949')\n",
    "js_hotel = pd.read_csv('정선숙박.csv', encoding='cp949')\n",
    "tb_hotel = pd.read_csv('태백숙박.csv', encoding='cp949')\n",
    "pc_hotel = pd.read_csv('평창숙박.csv', encoding='cp949')\n",
    "hs_hotel = pd.read_csv('화순숙박.csv', encoding='cp949')"
   ]
  },
  {
   "cell_type": "code",
   "execution_count": 25,
   "metadata": {},
   "outputs": [
    {
     "name": "stdout",
     "output_type": "stream",
     "text": [
      "['업종명', '업소명', '영업소 주소(도로명)', '소재지전화', '객실수'] \n",
      " ['연번', '업종명', '업소명', '객실수', '영업소 주소(도로명)', '영업소 주소(지번)'] \n",
      " ['연번', '업종명', '업소명', '객실수', '영업소 주소(지번)'] \n",
      " ['연번', '업종명', '업소명', '객실수', '영업소 주소(도로명)', '영업소 주소(지번)', '소재지전화'] \n",
      " ['상호명', '주소', '전화번호', '객실수'] \n",
      " ['순번', '업종명', '신고일자', '업소명', '업소소재지(지번)', '소재지전화', '객실수'] \n",
      " ['번호', '업소명', '업소소재지(지번)', '소재지전화', '우편번호', '행정동명', '업태명', '객실수', '한실수', '양실수'] \n",
      " ['연번', '업종명', '업소명', '객실수', '영업소 주소(지번)'] \n",
      " ['업소명', '업종명', '소재지도로명주소', '전화번호', '객실수', '부대시설', '주차장보유여부', '결제방법', '홈페이지주소', '주변관광정보', '위도', '경도', '데이터기준일자']\n"
     ]
    }
   ],
   "source": [
    "print(mk_hotel.columns.tolist(), \"\\n\",\n",
    "      br_hotel.columns.tolist(), \"\\n\",\n",
    "      bh_hotel.columns.tolist(), \"\\n\",\n",
    "      sc_hotel.columns.tolist(), \"\\n\",\n",
    "      yw_hotel.columns.tolist(), \"\\n\",\n",
    "      js_hotel.columns.tolist(), \"\\n\",\n",
    "      tb_hotel.columns.tolist(), \"\\n\",\n",
    "      pc_hotel.columns.tolist(), \"\\n\",\n",
    "      hs_hotel.columns.tolist())"
   ]
  },
  {
   "cell_type": "code",
   "execution_count": 26,
   "metadata": {},
   "outputs": [
    {
     "data": {
      "text/html": [
       "<div>\n",
       "<style scoped>\n",
       "    .dataframe tbody tr th:only-of-type {\n",
       "        vertical-align: middle;\n",
       "    }\n",
       "\n",
       "    .dataframe tbody tr th {\n",
       "        vertical-align: top;\n",
       "    }\n",
       "\n",
       "    .dataframe thead th {\n",
       "        text-align: right;\n",
       "    }\n",
       "</style>\n",
       "<table border=\"1\" class=\"dataframe\">\n",
       "  <thead>\n",
       "    <tr style=\"text-align: right;\">\n",
       "      <th></th>\n",
       "      <th>업소명</th>\n",
       "      <th>객실수</th>\n",
       "      <th>시군</th>\n",
       "    </tr>\n",
       "  </thead>\n",
       "  <tbody>\n",
       "    <tr>\n",
       "      <th>0</th>\n",
       "      <td>(주)문경레저타운 문경새재리조트</td>\n",
       "      <td>66.0</td>\n",
       "      <td>문경_1</td>\n",
       "    </tr>\n",
       "    <tr>\n",
       "      <th>1</th>\n",
       "      <td>E(이)</td>\n",
       "      <td>17.0</td>\n",
       "      <td>문경_1</td>\n",
       "    </tr>\n",
       "    <tr>\n",
       "      <th>2</th>\n",
       "      <td>G모텔</td>\n",
       "      <td>18.0</td>\n",
       "      <td>문경_1</td>\n",
       "    </tr>\n",
       "    <tr>\n",
       "      <th>3</th>\n",
       "      <td>IMT 모텔</td>\n",
       "      <td>27.0</td>\n",
       "      <td>문경_1</td>\n",
       "    </tr>\n",
       "    <tr>\n",
       "      <th>4</th>\n",
       "      <td>k2모텔</td>\n",
       "      <td>NaN</td>\n",
       "      <td>문경_1</td>\n",
       "    </tr>\n",
       "    <tr>\n",
       "      <th>...</th>\n",
       "      <td>...</td>\n",
       "      <td>...</td>\n",
       "      <td>...</td>\n",
       "    </tr>\n",
       "    <tr>\n",
       "      <th>1435</th>\n",
       "      <td>(주)드라이브인궁펜션</td>\n",
       "      <td>24.0</td>\n",
       "      <td>화순_9</td>\n",
       "    </tr>\n",
       "    <tr>\n",
       "      <th>1436</th>\n",
       "      <td>테마모텔</td>\n",
       "      <td>21.0</td>\n",
       "      <td>화순_9</td>\n",
       "    </tr>\n",
       "    <tr>\n",
       "      <th>1437</th>\n",
       "      <td>화순온천모텔</td>\n",
       "      <td>22.0</td>\n",
       "      <td>화순_9</td>\n",
       "    </tr>\n",
       "    <tr>\n",
       "      <th>1438</th>\n",
       "      <td>모텔마루</td>\n",
       "      <td>13.0</td>\n",
       "      <td>화순_9</td>\n",
       "    </tr>\n",
       "    <tr>\n",
       "      <th>1439</th>\n",
       "      <td>금호리조트(주)</td>\n",
       "      <td>220.0</td>\n",
       "      <td>화순_9</td>\n",
       "    </tr>\n",
       "  </tbody>\n",
       "</table>\n",
       "<p>1440 rows × 3 columns</p>\n",
       "</div>"
      ],
      "text/plain": [
       "                    업소명    객실수    시군\n",
       "0     (주)문경레저타운 문경새재리조트   66.0  문경_1\n",
       "1                  E(이)   17.0  문경_1\n",
       "2                   G모텔   18.0  문경_1\n",
       "3                IMT 모텔   27.0  문경_1\n",
       "4                  k2모텔    NaN  문경_1\n",
       "...                 ...    ...   ...\n",
       "1435        (주)드라이브인궁펜션   24.0  화순_9\n",
       "1436               테마모텔   21.0  화순_9\n",
       "1437             화순온천모텔   22.0  화순_9\n",
       "1438               모텔마루   13.0  화순_9\n",
       "1439           금호리조트(주)  220.0  화순_9\n",
       "\n",
       "[1440 rows x 3 columns]"
      ]
     },
     "execution_count": 26,
     "metadata": {},
     "output_type": "execute_result"
    }
   ],
   "source": [
    "mk_hotel = mk_hotel[['업소명','객실수']]\n",
    "br_hotel = br_hotel[['업소명', '객실수']]\n",
    "bh_hotel = bh_hotel[['업소명', '객실수']]\n",
    "sc_hotel = sc_hotel[['업소명', '객실수']]\n",
    "yw_hotel = yw_hotel[['상호명', '객실수']]\n",
    "js_hotel = js_hotel[['업소명', '객실수']]\n",
    "tb_hotel = tb_hotel[['업소명', '객실수']]\n",
    "pc_hotel = pc_hotel[['업소명', '객실수']]\n",
    "hs_hotel = hs_hotel[['업소명', '객실수']]\n",
    "\n",
    "yw_hotel.columns = ['업소명','객실수']\n",
    "\n",
    "mk_hotel['시군'] = '문경_1'\n",
    "br_hotel['시군'] = '보령_2'\n",
    "bh_hotel['시군'] = '봉화_3'\n",
    "sc_hotel['시군'] = '삼척_4'\n",
    "yw_hotel['시군'] = '영월_5'\n",
    "js_hotel['시군'] = '정선_6'\n",
    "tb_hotel['시군'] = '태백_7'\n",
    "pc_hotel['시군'] = '평창_8'\n",
    "hs_hotel['시군'] = '화순_9'\n",
    "\n",
    "hotel = pd.concat([mk_hotel, br_hotel, bh_hotel, sc_hotel, yw_hotel,\n",
    "                  js_hotel, tb_hotel, pc_hotel, hs_hotel])\n",
    "\n",
    "hotel = hotel.reset_index(drop=True)\n",
    "\n",
    "hotel"
   ]
  },
  {
   "cell_type": "code",
   "execution_count": 27,
   "metadata": {},
   "outputs": [
    {
     "data": {
      "text/plain": [
       "업소명      0\n",
       "객실수    549\n",
       "시군       0\n",
       "dtype: int64"
      ]
     },
     "execution_count": 27,
     "metadata": {},
     "output_type": "execute_result"
    }
   ],
   "source": [
    "hotel.isna().sum()"
   ]
  },
  {
   "cell_type": "code",
   "execution_count": 28,
   "metadata": {},
   "outputs": [
    {
     "data": {
      "image/png": "[encoded data removed]",
      "text/plain": [
       "<Figure size 720x360 with 3 Axes>"
      ]
     },
     "metadata": {
      "image/png": {
       "height": 386,
       "width": 647
      }
     },
     "output_type": "display_data"
    }
   ],
   "source": [
    "import missingno as msno\n",
    "msno.bar(hotel, figsize=(10,5))\n",
    "plt.show()"
   ]
  },
  {
   "cell_type": "code",
   "execution_count": 29,
   "metadata": {},
   "outputs": [
    {
     "data": {
      "image/png": "[encoded data removed]",
      "text/plain": [
       "<Figure size 576x360 with 2 Axes>"
      ]
     },
     "metadata": {
      "image/png": {
       "height": 352,
       "width": 522
      }
     },
     "output_type": "display_data"
    }
   ],
   "source": [
    "msno.matrix(hotel, figsize=(8,5))\n",
    "plt.show()"
   ]
  },
  {
   "cell_type": "code",
   "execution_count": 30,
   "metadata": {},
   "outputs": [
    {
     "data": {
      "text/html": [
       "<div>\n",
       "<style scoped>\n",
       "    .dataframe tbody tr th:only-of-type {\n",
       "        vertical-align: middle;\n",
       "    }\n",
       "\n",
       "    .dataframe tbody tr th {\n",
       "        vertical-align: top;\n",
       "    }\n",
       "\n",
       "    .dataframe thead th {\n",
       "        text-align: right;\n",
       "    }\n",
       "</style>\n",
       "<table border=\"1\" class=\"dataframe\">\n",
       "  <thead>\n",
       "    <tr style=\"text-align: right;\">\n",
       "      <th></th>\n",
       "      <th>업소명</th>\n",
       "      <th>객실수</th>\n",
       "      <th>시군</th>\n",
       "    </tr>\n",
       "  </thead>\n",
       "  <tbody>\n",
       "    <tr>\n",
       "      <th>0</th>\n",
       "      <td>(주)문경레저타운 문경새재리조트</td>\n",
       "      <td>66.0</td>\n",
       "      <td>문경_1</td>\n",
       "    </tr>\n",
       "    <tr>\n",
       "      <th>1</th>\n",
       "      <td>E(이)</td>\n",
       "      <td>17.0</td>\n",
       "      <td>문경_1</td>\n",
       "    </tr>\n",
       "    <tr>\n",
       "      <th>2</th>\n",
       "      <td>G모텔</td>\n",
       "      <td>18.0</td>\n",
       "      <td>문경_1</td>\n",
       "    </tr>\n",
       "    <tr>\n",
       "      <th>3</th>\n",
       "      <td>IMT 모텔</td>\n",
       "      <td>27.0</td>\n",
       "      <td>문경_1</td>\n",
       "    </tr>\n",
       "    <tr>\n",
       "      <th>4</th>\n",
       "      <td>k2모텔</td>\n",
       "      <td>25.0</td>\n",
       "      <td>문경_1</td>\n",
       "    </tr>\n",
       "    <tr>\n",
       "      <th>...</th>\n",
       "      <td>...</td>\n",
       "      <td>...</td>\n",
       "      <td>...</td>\n",
       "    </tr>\n",
       "    <tr>\n",
       "      <th>1435</th>\n",
       "      <td>(주)드라이브인궁펜션</td>\n",
       "      <td>24.0</td>\n",
       "      <td>화순_9</td>\n",
       "    </tr>\n",
       "    <tr>\n",
       "      <th>1436</th>\n",
       "      <td>테마모텔</td>\n",
       "      <td>21.0</td>\n",
       "      <td>화순_9</td>\n",
       "    </tr>\n",
       "    <tr>\n",
       "      <th>1437</th>\n",
       "      <td>화순온천모텔</td>\n",
       "      <td>22.0</td>\n",
       "      <td>화순_9</td>\n",
       "    </tr>\n",
       "    <tr>\n",
       "      <th>1438</th>\n",
       "      <td>모텔마루</td>\n",
       "      <td>13.0</td>\n",
       "      <td>화순_9</td>\n",
       "    </tr>\n",
       "    <tr>\n",
       "      <th>1439</th>\n",
       "      <td>금호리조트(주)</td>\n",
       "      <td>220.0</td>\n",
       "      <td>화순_9</td>\n",
       "    </tr>\n",
       "  </tbody>\n",
       "</table>\n",
       "<p>1440 rows × 3 columns</p>\n",
       "</div>"
      ],
      "text/plain": [
       "                    업소명    객실수    시군\n",
       "0     (주)문경레저타운 문경새재리조트   66.0  문경_1\n",
       "1                  E(이)   17.0  문경_1\n",
       "2                   G모텔   18.0  문경_1\n",
       "3                IMT 모텔   27.0  문경_1\n",
       "4                  k2모텔   25.0  문경_1\n",
       "...                 ...    ...   ...\n",
       "1435        (주)드라이브인궁펜션   24.0  화순_9\n",
       "1436               테마모텔   21.0  화순_9\n",
       "1437             화순온천모텔   22.0  화순_9\n",
       "1438               모텔마루   13.0  화순_9\n",
       "1439           금호리조트(주)  220.0  화순_9\n",
       "\n",
       "[1440 rows x 3 columns]"
      ]
     },
     "execution_count": 30,
     "metadata": {},
     "output_type": "execute_result"
    }
   ],
   "source": [
    "# 객실수 결측치 평균값으로 대체\n",
    "hotel = hotel.fillna(int(hotel['객실수'].mean()))\n",
    "hotel"
   ]
  },
  {
   "cell_type": "code",
   "execution_count": null,
   "metadata": {},
   "outputs": [],
   "source": []
  },
  {
   "cell_type": "code",
   "execution_count": 31,
   "metadata": {},
   "outputs": [],
   "source": [
    "# 지역별 방문자 데이터\n",
    "tourist_1 = pd.read_csv('강원도 관광객.csv', encoding='cp949')\n",
    "tourist_2= pd.read_csv('경상북도 관광객.csv', encoding='cp949')\n",
    "tourist_3 = pd.read_csv('전라남도 관광객.csv', encoding='cp949')\n",
    "tourist_4 = pd.read_csv('충청남도 관광객.csv', encoding='cp949')"
   ]
  },
  {
   "cell_type": "code",
   "execution_count": 32,
   "metadata": {},
   "outputs": [
    {
     "data": {
      "text/html": [
       "<div>\n",
       "<style scoped>\n",
       "    .dataframe tbody tr th:only-of-type {\n",
       "        vertical-align: middle;\n",
       "    }\n",
       "\n",
       "    .dataframe tbody tr th {\n",
       "        vertical-align: top;\n",
       "    }\n",
       "\n",
       "    .dataframe thead th {\n",
       "        text-align: right;\n",
       "    }\n",
       "</style>\n",
       "<table border=\"1\" class=\"dataframe\">\n",
       "  <thead>\n",
       "    <tr style=\"text-align: right;\">\n",
       "      <th></th>\n",
       "      <th>지역</th>\n",
       "      <th>구분</th>\n",
       "      <th>2018</th>\n",
       "      <th>2019</th>\n",
       "      <th>2020</th>\n",
       "    </tr>\n",
       "  </thead>\n",
       "  <tbody>\n",
       "    <tr>\n",
       "      <th>0</th>\n",
       "      <td>춘천시</td>\n",
       "      <td>외부방문자(b+c)</td>\n",
       "      <td>26684111</td>\n",
       "      <td>30513697</td>\n",
       "      <td>26834466</td>\n",
       "    </tr>\n",
       "    <tr>\n",
       "      <th>1</th>\n",
       "      <td>원주시</td>\n",
       "      <td>외부방문자(b+c)</td>\n",
       "      <td>29707426</td>\n",
       "      <td>30608425</td>\n",
       "      <td>27405505</td>\n",
       "    </tr>\n",
       "    <tr>\n",
       "      <th>2</th>\n",
       "      <td>강릉시</td>\n",
       "      <td>외부방문자(b+c)</td>\n",
       "      <td>31662185</td>\n",
       "      <td>32299061</td>\n",
       "      <td>31244271</td>\n",
       "    </tr>\n",
       "    <tr>\n",
       "      <th>3</th>\n",
       "      <td>동해시</td>\n",
       "      <td>외부방문자(b+c)</td>\n",
       "      <td>10110320</td>\n",
       "      <td>10790192</td>\n",
       "      <td>10324270</td>\n",
       "    </tr>\n",
       "    <tr>\n",
       "      <th>4</th>\n",
       "      <td>태백시</td>\n",
       "      <td>외부방문자(b+c)</td>\n",
       "      <td>5058337</td>\n",
       "      <td>5283704</td>\n",
       "      <td>4824126</td>\n",
       "    </tr>\n",
       "    <tr>\n",
       "      <th>...</th>\n",
       "      <td>...</td>\n",
       "      <td>...</td>\n",
       "      <td>...</td>\n",
       "      <td>...</td>\n",
       "      <td>...</td>\n",
       "    </tr>\n",
       "    <tr>\n",
       "      <th>75</th>\n",
       "      <td>서천군</td>\n",
       "      <td>외부방문자(b+c)</td>\n",
       "      <td>8275092</td>\n",
       "      <td>9185177</td>\n",
       "      <td>8949365</td>\n",
       "    </tr>\n",
       "    <tr>\n",
       "      <th>76</th>\n",
       "      <td>청양군</td>\n",
       "      <td>외부방문자(b+c)</td>\n",
       "      <td>4495412</td>\n",
       "      <td>4626416</td>\n",
       "      <td>4172468</td>\n",
       "    </tr>\n",
       "    <tr>\n",
       "      <th>77</th>\n",
       "      <td>홍성군</td>\n",
       "      <td>외부방문자(b+c)</td>\n",
       "      <td>11385314</td>\n",
       "      <td>11919333</td>\n",
       "      <td>11017075</td>\n",
       "    </tr>\n",
       "    <tr>\n",
       "      <th>78</th>\n",
       "      <td>예산군</td>\n",
       "      <td>외부방문자(b+c)</td>\n",
       "      <td>11857550</td>\n",
       "      <td>14116505</td>\n",
       "      <td>12588950</td>\n",
       "    </tr>\n",
       "    <tr>\n",
       "      <th>79</th>\n",
       "      <td>태안군</td>\n",
       "      <td>외부방문자(b+c)</td>\n",
       "      <td>13954748</td>\n",
       "      <td>15253767</td>\n",
       "      <td>15529428</td>\n",
       "    </tr>\n",
       "  </tbody>\n",
       "</table>\n",
       "<p>80 rows × 5 columns</p>\n",
       "</div>"
      ],
      "text/plain": [
       "     지역          구분      2018      2019      2020\n",
       "0   춘천시  외부방문자(b+c)  26684111  30513697  26834466\n",
       "1   원주시  외부방문자(b+c)  29707426  30608425  27405505\n",
       "2   강릉시  외부방문자(b+c)  31662185  32299061  31244271\n",
       "3   동해시  외부방문자(b+c)  10110320  10790192  10324270\n",
       "4   태백시  외부방문자(b+c)   5058337   5283704   4824126\n",
       "..  ...         ...       ...       ...       ...\n",
       "75  서천군  외부방문자(b+c)   8275092   9185177   8949365\n",
       "76  청양군  외부방문자(b+c)   4495412   4626416   4172468\n",
       "77  홍성군  외부방문자(b+c)  11385314  11919333  11017075\n",
       "78  예산군  외부방문자(b+c)  11857550  14116505  12588950\n",
       "79  태안군  외부방문자(b+c)  13954748  15253767  15529428\n",
       "\n",
       "[80 rows x 5 columns]"
      ]
     },
     "execution_count": 32,
     "metadata": {},
     "output_type": "execute_result"
    }
   ],
   "source": [
    "tourist_1 = tourist_1[(tourist_1['구분']== '외부방문자(b+c)')]\n",
    "tourist_2 = tourist_2[(tourist_2['구분']== '외부방문자(b+c)')]\n",
    "tourist_3 = tourist_3[(tourist_3['구분']== '외부방문자(b+c)')]\n",
    "tourist_4 = tourist_4[(tourist_4['구분']== '외부방문자(b+c)')]\n",
    "\n",
    "tourist = pd.concat([tourist_1, tourist_2, tourist_3, tourist_4])\n",
    "tourist = tourist.reset_index(drop=True)\n",
    "tourist"
   ]
  },
  {
   "cell_type": "code",
   "execution_count": 33,
   "metadata": {},
   "outputs": [
    {
     "name": "stdout",
     "output_type": "stream",
     "text": [
      "객실 수:  [2338.0, 5330.0, 982.0, 2630.0, 3472.0, 11348.0, 2064.0, 6781.0, 1434.0]\n",
      "적정 객실 수:  [3540, 5041, 1315, 3611, 1959, 2863, 1675, 4532, 3694]\n"
     ]
    }
   ],
   "source": [
    "room = []                   # 객실 수 리스트\n",
    "room_need = []              # 적정 객실 수 리스트\n",
    "for i in range(1,10):      # 시군 별로 숙박업소의 총 객실 수 & 적정 객실 수 구하기\n",
    "    i = str(i)\n",
    "    a = hotel[(hotel['시군'].str.contains(i))]\n",
    "    room.append(a[\"객실수\"].sum())\n",
    "    a = a.reset_index(drop=True)\n",
    "    for j in range(80):\n",
    "        if a['시군'][0][:2] in tourist['지역'][j]:\n",
    "            room_need.append(int(tourist['2019'][j]/365/4.32*0.5))\n",
    "        else:\n",
    "            continue\n",
    "print(\"객실 수: \",room)\n",
    "print(\"적정 객실 수: \",room_need)"
   ]
  },
  {
   "cell_type": "code",
   "execution_count": 34,
   "metadata": {},
   "outputs": [
    {
     "data": {
      "text/plain": [
       "문경    48.0\n",
       "보령     0.0\n",
       "봉화    13.0\n",
       "삼척    39.0\n",
       "영월     0.0\n",
       "정선     0.0\n",
       "태백     0.0\n",
       "평창     0.0\n",
       "화순    90.0\n",
       "dtype: float64"
      ]
     },
     "execution_count": 34,
     "metadata": {},
     "output_type": "execute_result"
    }
   ],
   "source": [
    "# 시군 별로 추가로 필요한 숙박시설 수\n",
    "hotel_add = []\n",
    "for i in range(9):\n",
    "    if room[i]-room_need[i]>= 0:\n",
    "        hotel_add.append(0)\n",
    "    else:\n",
    "        hotel_add.append(round((room_need[i]-room[i])/round(hotel['객실수'].mean())))\n",
    "\n",
    "hotel_add = Series(data=hotel_add, index=index_list)\n",
    "hotel_add"
   ]
  },
  {
   "cell_type": "code",
   "execution_count": 35,
   "metadata": {},
   "outputs": [
    {
     "data": {
      "text/plain": [
       "<AxesSubplot:>"
      ]
     },
     "execution_count": 35,
     "metadata": {},
     "output_type": "execute_result"
    },
    {
     "data": {
      "image/png": "[encoded data removed]",
      "text/plain": [
       "<Figure size 360x360 with 1 Axes>"
      ]
     },
     "metadata": {
      "image/png": {
       "height": 317,
       "width": 315
      }
     },
     "output_type": "display_data"
    }
   ],
   "source": [
    "hotel_add.plot.bar(figsize=(5,5))"
   ]
  },
  {
   "cell_type": "markdown",
   "metadata": {},
   "source": [
    "# 음식점"
   ]
  },
  {
   "cell_type": "code",
   "execution_count": 36,
   "metadata": {},
   "outputs": [],
   "source": [
    "# 지역별 모범음식점 데이터\n",
    "gangwon_res = pd.read_csv(\"강원도_음식점.csv\", encoding='cp949')\n",
    "mk_res = pd.read_csv(\"문경_음식점.csv\", encoding='cp949')\n",
    "br_res = pd.read_csv(\"보령_음식점.csv\",encoding='cp949')\n",
    "bh_res = pd.read_csv(\"봉화_음식점.csv\", encoding='cp949')\n",
    "jeonnam_res = pd.read_csv(\"전라남도_음식점.csv\", encoding='cp949')"
   ]
  },
  {
   "cell_type": "code",
   "execution_count": 37,
   "metadata": {},
   "outputs": [
    {
     "name": "stdout",
     "output_type": "stream",
     "text": [
      "['시군구명', '업소명', '식당업종', '업태', '주요메뉴', '대표자명', '연락처', '소재지도로명주소', '경도', '위도', '홈페이지주소', '최대수용인원', '운영시간', '주차장보유여부'] \n",
      " ['식당업종', '업소명', '소재지', '연락처'] \n",
      " ['연번', '업태', '업소명', '주취급음식', '소재지', '전화번호'] \n",
      " ['식당업종', '업소명', '소재지', '연락처'] \n",
      " ['연번', '시군구', '업소명', '주소', '전화번호', '기준일']\n"
     ]
    }
   ],
   "source": [
    "print(gangwon_res.columns.tolist(), \"\\n\",\n",
    "      mk_res.columns.tolist(), \"\\n\",\n",
    "      br_res.columns.tolist(), \"\\n\",\n",
    "      bh_res.columns.tolist(), \"\\n\",\n",
    "      jeonnam_res.columns.tolist())"
   ]
  },
  {
   "cell_type": "code",
   "execution_count": 38,
   "metadata": {
    "scrolled": false
   },
   "outputs": [
    {
     "name": "stderr",
     "output_type": "stream",
     "text": [
      "C:\\Users\\n_yeo\\anaconda3\\lib\\site-packages\\ipykernel_launcher.py:17: SettingWithCopyWarning: \n",
      "A value is trying to be set on a copy of a slice from a DataFrame.\n",
      "Try using .loc[row_indexer,col_indexer] = value instead\n",
      "\n",
      "See the caveats in the documentation: https://pandas.pydata.org/pandas-docs/stable/user_guide/indexing.html#returning-a-view-versus-a-copy\n",
      "C:\\Users\\n_yeo\\anaconda3\\lib\\site-packages\\ipykernel_launcher.py:18: SettingWithCopyWarning: \n",
      "A value is trying to be set on a copy of a slice from a DataFrame.\n",
      "Try using .loc[row_indexer,col_indexer] = value instead\n",
      "\n",
      "See the caveats in the documentation: https://pandas.pydata.org/pandas-docs/stable/user_guide/indexing.html#returning-a-view-versus-a-copy\n",
      "C:\\Users\\n_yeo\\anaconda3\\lib\\site-packages\\ipykernel_launcher.py:19: SettingWithCopyWarning: \n",
      "A value is trying to be set on a copy of a slice from a DataFrame.\n",
      "Try using .loc[row_indexer,col_indexer] = value instead\n",
      "\n",
      "See the caveats in the documentation: https://pandas.pydata.org/pandas-docs/stable/user_guide/indexing.html#returning-a-view-versus-a-copy\n",
      "C:\\Users\\n_yeo\\anaconda3\\lib\\site-packages\\ipykernel_launcher.py:20: SettingWithCopyWarning: \n",
      "A value is trying to be set on a copy of a slice from a DataFrame.\n",
      "Try using .loc[row_indexer,col_indexer] = value instead\n",
      "\n",
      "See the caveats in the documentation: https://pandas.pydata.org/pandas-docs/stable/user_guide/indexing.html#returning-a-view-versus-a-copy\n",
      "C:\\Users\\n_yeo\\anaconda3\\lib\\site-packages\\ipykernel_launcher.py:21: SettingWithCopyWarning: \n",
      "A value is trying to be set on a copy of a slice from a DataFrame.\n",
      "Try using .loc[row_indexer,col_indexer] = value instead\n",
      "\n",
      "See the caveats in the documentation: https://pandas.pydata.org/pandas-docs/stable/user_guide/indexing.html#returning-a-view-versus-a-copy\n",
      "C:\\Users\\n_yeo\\anaconda3\\lib\\site-packages\\ipykernel_launcher.py:22: SettingWithCopyWarning: \n",
      "A value is trying to be set on a copy of a slice from a DataFrame.\n",
      "Try using .loc[row_indexer,col_indexer] = value instead\n",
      "\n",
      "See the caveats in the documentation: https://pandas.pydata.org/pandas-docs/stable/user_guide/indexing.html#returning-a-view-versus-a-copy\n"
     ]
    },
    {
     "data": {
      "text/html": [
       "<div>\n",
       "<style scoped>\n",
       "    .dataframe tbody tr th:only-of-type {\n",
       "        vertical-align: middle;\n",
       "    }\n",
       "\n",
       "    .dataframe tbody tr th {\n",
       "        vertical-align: top;\n",
       "    }\n",
       "\n",
       "    .dataframe thead th {\n",
       "        text-align: right;\n",
       "    }\n",
       "</style>\n",
       "<table border=\"1\" class=\"dataframe\">\n",
       "  <thead>\n",
       "    <tr style=\"text-align: right;\">\n",
       "      <th></th>\n",
       "      <th>업소명</th>\n",
       "      <th>시군</th>\n",
       "    </tr>\n",
       "  </thead>\n",
       "  <tbody>\n",
       "    <tr>\n",
       "      <th>0</th>\n",
       "      <td>털보식육식당</td>\n",
       "      <td>문경_1</td>\n",
       "    </tr>\n",
       "    <tr>\n",
       "      <th>1</th>\n",
       "      <td>그린가든</td>\n",
       "      <td>문경_1</td>\n",
       "    </tr>\n",
       "    <tr>\n",
       "      <th>2</th>\n",
       "      <td>왕쭈꾸미</td>\n",
       "      <td>문경_1</td>\n",
       "    </tr>\n",
       "    <tr>\n",
       "      <th>3</th>\n",
       "      <td>청요리식당</td>\n",
       "      <td>문경_1</td>\n",
       "    </tr>\n",
       "    <tr>\n",
       "      <th>4</th>\n",
       "      <td>송정송어장모전점</td>\n",
       "      <td>문경_1</td>\n",
       "    </tr>\n",
       "    <tr>\n",
       "      <th>...</th>\n",
       "      <td>...</td>\n",
       "      <td>...</td>\n",
       "    </tr>\n",
       "    <tr>\n",
       "      <th>372</th>\n",
       "      <td>전원</td>\n",
       "      <td>화순_9</td>\n",
       "    </tr>\n",
       "    <tr>\n",
       "      <th>373</th>\n",
       "      <td>쭈꾸味사랑</td>\n",
       "      <td>화순_9</td>\n",
       "    </tr>\n",
       "    <tr>\n",
       "      <th>374</th>\n",
       "      <td>초향</td>\n",
       "      <td>화순_9</td>\n",
       "    </tr>\n",
       "    <tr>\n",
       "      <th>375</th>\n",
       "      <td>행복한임금님</td>\n",
       "      <td>화순_9</td>\n",
       "    </tr>\n",
       "    <tr>\n",
       "      <th>376</th>\n",
       "      <td>현대찜갈비</td>\n",
       "      <td>화순_9</td>\n",
       "    </tr>\n",
       "  </tbody>\n",
       "</table>\n",
       "<p>377 rows × 2 columns</p>\n",
       "</div>"
      ],
      "text/plain": [
       "          업소명    시군\n",
       "0      털보식육식당  문경_1\n",
       "1        그린가든  문경_1\n",
       "2        왕쭈꾸미  문경_1\n",
       "3       청요리식당  문경_1\n",
       "4    송정송어장모전점  문경_1\n",
       "..        ...   ...\n",
       "372        전원  화순_9\n",
       "373     쭈꾸味사랑  화순_9\n",
       "374        초향  화순_9\n",
       "375    행복한임금님  화순_9\n",
       "376     현대찜갈비  화순_9\n",
       "\n",
       "[377 rows x 2 columns]"
      ]
     },
     "execution_count": 38,
     "metadata": {},
     "output_type": "execute_result"
    }
   ],
   "source": [
    "gangwon_res = gangwon_res[['업소명', '시군구명']]\n",
    "mk_res = mk_res[['업소명']]\n",
    "br_res = br_res[['업소명']]\n",
    "bh_res = bh_res[['업소명']]\n",
    "jeonnam_res = jeonnam_res[['업소명', '시군구']]\n",
    "\n",
    "sc_res = gangwon_res[(gangwon_res['시군구명']== '삼척시')]\n",
    "yw_res = gangwon_res[(gangwon_res['시군구명']== '영월군')]\n",
    "js_res = gangwon_res[(gangwon_res['시군구명']== '정선군')]\n",
    "tb_res = gangwon_res[(gangwon_res['시군구명']== '태백시')]\n",
    "pc_res = gangwon_res[(gangwon_res['시군구명']== '평창군')]\n",
    "hs_res = jeonnam_res[(jeonnam_res['시군구']== '화순군')]\n",
    "\n",
    "mk_res['시군'] = '문경_1'\n",
    "br_res['시군'] = '보령_2'\n",
    "bh_res['시군'] = '봉화_3'\n",
    "sc_res['시군'] = '삼척_4'\n",
    "yw_res['시군'] = '영월_5'\n",
    "js_res['시군'] = '정선_6'\n",
    "tb_res['시군'] = '태백_7'\n",
    "pc_res['시군'] = '평창_8'\n",
    "hs_res['시군'] = '화순_9'\n",
    "\n",
    "sc_res = sc_res[['업소명', '시군']]\n",
    "yw_res = yw_res[['업소명', '시군']]\n",
    "js_res = js_res[['업소명', '시군']]\n",
    "tb_res = tb_res[['업소명', '시군']]\n",
    "pc_res = pc_res[['업소명', '시군']]\n",
    "\n",
    "mk_res = mk_res[['업소명', '시군']]\n",
    "br_res = br_res[['업소명', '시군']]\n",
    "bh_res = bh_res[['업소명', '시군']]\n",
    "hs_res = hs_res[['업소명', '시군']]\n",
    "\n",
    "res = pd.concat([mk_res, br_res, bh_res, sc_res, yw_res,\n",
    "                  js_res, tb_res, pc_res, hs_res])\n",
    "\n",
    "res = res.reset_index(drop=True)\n",
    "\n",
    "res"
   ]
  },
  {
   "cell_type": "code",
   "execution_count": 39,
   "metadata": {},
   "outputs": [
    {
     "data": {
      "text/plain": [
       "문경    71924\n",
       "보령    99234\n",
       "봉화    31232\n",
       "삼척    64393\n",
       "영월    38458\n",
       "정선    36059\n",
       "태백    42249\n",
       "평창    41212\n",
       "화순    62289\n",
       "dtype: int64"
      ]
     },
     "execution_count": 39,
     "metadata": {},
     "output_type": "execute_result"
    }
   ],
   "source": [
    "# 각 지역 인구수\n",
    "people_list = [71924, 99234, 31232, 64393, 38458, 36059, 42249, 41212, 62289]\n",
    "index_list = ['문경', '보령', '봉화', '삼척', '영월','정선', '태백','평창','화순']\n",
    "people = Series(data=people_list, index=index_list)\n",
    "people"
   ]
  },
  {
   "cell_type": "code",
   "execution_count": 40,
   "metadata": {},
   "outputs": [
    {
     "name": "stdout",
     "output_type": "stream",
     "text": [
      "음식점 현황:  [48, 34, 34, 65, 32, 45, 29, 58, 32]\n",
      "음식점 적정 수 [28, 39, 12, 25, 15, 14, 16, 16, 24]\n"
     ]
    }
   ],
   "source": [
    "res_count = []     # 음식점 수 리스트 \n",
    "res_need = []      # 적정 음식점 수 리스트\n",
    "for i in range(1,10):    # 시군 별로 현재 음식점 수 & 음식점 적정 개수 구하기\n",
    "    i = str(i)\n",
    "    a = res[(res['시군'].str.contains(i))]\n",
    "    res_count.append(a.shape[0])\n",
    "    a = a.reset_index(drop=True)\n",
    "    i = int(i)\n",
    "    res_need.append(int(3816/(9598484/people[i-1])))\n",
    "\n",
    "print(\"음식점 현황: \",res_count)\n",
    "print(\"음식점 적정 수\",res_need)"
   ]
  },
  {
   "cell_type": "code",
   "execution_count": 41,
   "metadata": {},
   "outputs": [
    {
     "data": {
      "text/plain": [
       "문경    0\n",
       "보령    5\n",
       "봉화    0\n",
       "삼척    0\n",
       "영월    0\n",
       "정선    0\n",
       "태백    0\n",
       "평창    0\n",
       "화순    0\n",
       "dtype: int64"
      ]
     },
     "execution_count": 41,
     "metadata": {},
     "output_type": "execute_result"
    }
   ],
   "source": [
    "# 시군 별로 추가로 필요한 음식점 수\n",
    "res_add = []\n",
    "for i in range(9):\n",
    "    if res_count[i]-res_need[i]>= 0:\n",
    "        res_add.append(0)\n",
    "    else:\n",
    "        res_add.append(res_need[i]-res_count[i])\n",
    "\n",
    "res_add = Series(data=res_add, index=index_list)\n",
    "res_add"
   ]
  },
  {
   "cell_type": "code",
   "execution_count": 42,
   "metadata": {},
   "outputs": [
    {
     "data": {
      "text/plain": [
       "<AxesSubplot:>"
      ]
     },
     "execution_count": 42,
     "metadata": {},
     "output_type": "execute_result"
    },
    {
     "data": {
      "image/png": "[encoded data removed]",
      "text/plain": [
       "<Figure size 360x360 with 1 Axes>"
      ]
     },
     "metadata": {
      "image/png": {
       "height": 317,
       "width": 308
      }
     },
     "output_type": "display_data"
    }
   ],
   "source": [
    "res_add.plot.bar(figsize=(5,5))"
   ]
  },
  {
   "cell_type": "markdown",
   "metadata": {},
   "source": [
    "# 공원"
   ]
  },
  {
   "cell_type": "code",
   "execution_count": 43,
   "metadata": {},
   "outputs": [],
   "source": [
    "# 지역별 공원 데이터\n",
    "mk_park = pd.read_csv(\"문경공원.csv\", encoding='cp949')\n",
    "br_park = pd.read_csv(\"보령공원.csv\", encoding='cp949')\n",
    "bh_park = pd.read_csv(\"봉화공원.csv\",encoding='cp949')\n",
    "sc_park = pd.read_csv(\"삼척공원.csv\", encoding='cp949')\n",
    "yw_park = pd.read_csv(\"영월공원.csv\", encoding='cp949')\n",
    "js_park = pd.read_csv(\"정선공원.csv\", encoding='cp949')\n",
    "tb_park = pd.read_csv(\"태백공원.csv\",encoding='cp949')\n",
    "pc_park = pd.read_csv(\"평창공원.csv\", encoding='cp949')\n",
    "hs_park = pd.read_csv(\"화순공원.csv\", encoding='cp949')"
   ]
  },
  {
   "cell_type": "code",
   "execution_count": 44,
   "metadata": {},
   "outputs": [
    {
     "data": {
      "text/html": [
       "<div>\n",
       "<style scoped>\n",
       "    .dataframe tbody tr th:only-of-type {\n",
       "        vertical-align: middle;\n",
       "    }\n",
       "\n",
       "    .dataframe tbody tr th {\n",
       "        vertical-align: top;\n",
       "    }\n",
       "\n",
       "    .dataframe thead th {\n",
       "        text-align: right;\n",
       "    }\n",
       "</style>\n",
       "<table border=\"1\" class=\"dataframe\">\n",
       "  <thead>\n",
       "    <tr style=\"text-align: right;\">\n",
       "      <th></th>\n",
       "      <th>공원명</th>\n",
       "      <th>소재지지번주소</th>\n",
       "      <th>위도</th>\n",
       "      <th>경도</th>\n",
       "      <th>공원면적</th>\n",
       "      <th>시군</th>\n",
       "    </tr>\n",
       "  </thead>\n",
       "  <tbody>\n",
       "    <tr>\n",
       "      <th>0</th>\n",
       "      <td>동부공원</td>\n",
       "      <td>경상북도 문경시 흥덕동 769</td>\n",
       "      <td>36.604351</td>\n",
       "      <td>128.207388</td>\n",
       "      <td>1787.0</td>\n",
       "      <td>문경_1</td>\n",
       "    </tr>\n",
       "    <tr>\n",
       "      <th>1</th>\n",
       "      <td>영신공원</td>\n",
       "      <td>경상북도 문경시 영신동 493-5</td>\n",
       "      <td>36.591918</td>\n",
       "      <td>128.209874</td>\n",
       "      <td>2400.0</td>\n",
       "      <td>문경_1</td>\n",
       "    </tr>\n",
       "    <tr>\n",
       "      <th>2</th>\n",
       "      <td>하리1어린이공원</td>\n",
       "      <td>경상북도 문경시 문경읍 하리 349-1</td>\n",
       "      <td>36.732417</td>\n",
       "      <td>128.110069</td>\n",
       "      <td>1860.0</td>\n",
       "      <td>문경_1</td>\n",
       "    </tr>\n",
       "    <tr>\n",
       "      <th>3</th>\n",
       "      <td>1보양공원어린이</td>\n",
       "      <td>경상북도 문경시 문경읍 하리 388</td>\n",
       "      <td>36.730767</td>\n",
       "      <td>128.112042</td>\n",
       "      <td>3239.0</td>\n",
       "      <td>문경_1</td>\n",
       "    </tr>\n",
       "    <tr>\n",
       "      <th>4</th>\n",
       "      <td>2보양공원어린이</td>\n",
       "      <td>경상북도 문경시 문경읍 하리 396-3</td>\n",
       "      <td>36.728177</td>\n",
       "      <td>128.107858</td>\n",
       "      <td>2416.0</td>\n",
       "      <td>문경_1</td>\n",
       "    </tr>\n",
       "    <tr>\n",
       "      <th>...</th>\n",
       "      <td>...</td>\n",
       "      <td>...</td>\n",
       "      <td>...</td>\n",
       "      <td>...</td>\n",
       "      <td>...</td>\n",
       "      <td>...</td>\n",
       "    </tr>\n",
       "    <tr>\n",
       "      <th>219</th>\n",
       "      <td>광덕제3어린이공원</td>\n",
       "      <td>전라남도 화순군 화순읍 일심리 780</td>\n",
       "      <td>35.056584</td>\n",
       "      <td>126.993765</td>\n",
       "      <td>1629.0</td>\n",
       "      <td>화순_9</td>\n",
       "    </tr>\n",
       "    <tr>\n",
       "      <th>220</th>\n",
       "      <td>신기제1어린이공원</td>\n",
       "      <td>전라남도 화순군 화순읍 신기리 405-1</td>\n",
       "      <td>35.065443</td>\n",
       "      <td>126.990813</td>\n",
       "      <td>4042.0</td>\n",
       "      <td>화순_9</td>\n",
       "    </tr>\n",
       "    <tr>\n",
       "      <th>221</th>\n",
       "      <td>신기제2어린이공원</td>\n",
       "      <td>전라남도 화순군 화순읍 일심리 873-1</td>\n",
       "      <td>35.061289</td>\n",
       "      <td>126.998027</td>\n",
       "      <td>2341.0</td>\n",
       "      <td>화순_9</td>\n",
       "    </tr>\n",
       "    <tr>\n",
       "      <th>222</th>\n",
       "      <td>연양체육공원</td>\n",
       "      <td>전라남도 화순군 화순읍 강정리 253-2</td>\n",
       "      <td>35.045417</td>\n",
       "      <td>126.968316</td>\n",
       "      <td>148674.0</td>\n",
       "      <td>화순_9</td>\n",
       "    </tr>\n",
       "    <tr>\n",
       "      <th>223</th>\n",
       "      <td>고인돌공원</td>\n",
       "      <td>전라남도 화순군 도곡면 효산리 140-2</td>\n",
       "      <td>34.986970</td>\n",
       "      <td>126.917838</td>\n",
       "      <td>64150.0</td>\n",
       "      <td>화순_9</td>\n",
       "    </tr>\n",
       "  </tbody>\n",
       "</table>\n",
       "<p>224 rows × 6 columns</p>\n",
       "</div>"
      ],
      "text/plain": [
       "           공원명                 소재지지번주소         위도          경도      공원면적    시군\n",
       "0         동부공원        경상북도 문경시 흥덕동 769  36.604351  128.207388    1787.0  문경_1\n",
       "1         영신공원      경상북도 문경시 영신동 493-5  36.591918  128.209874    2400.0  문경_1\n",
       "2     하리1어린이공원   경상북도 문경시 문경읍 하리 349-1  36.732417  128.110069    1860.0  문경_1\n",
       "3     1보양공원어린이     경상북도 문경시 문경읍 하리 388  36.730767  128.112042    3239.0  문경_1\n",
       "4     2보양공원어린이   경상북도 문경시 문경읍 하리 396-3  36.728177  128.107858    2416.0  문경_1\n",
       "..         ...                     ...        ...         ...       ...   ...\n",
       "219  광덕제3어린이공원    전라남도 화순군 화순읍 일심리 780  35.056584  126.993765    1629.0  화순_9\n",
       "220  신기제1어린이공원  전라남도 화순군 화순읍 신기리 405-1  35.065443  126.990813    4042.0  화순_9\n",
       "221  신기제2어린이공원  전라남도 화순군 화순읍 일심리 873-1  35.061289  126.998027    2341.0  화순_9\n",
       "222     연양체육공원  전라남도 화순군 화순읍 강정리 253-2  35.045417  126.968316  148674.0  화순_9\n",
       "223      고인돌공원  전라남도 화순군 도곡면 효산리 140-2  34.986970  126.917838   64150.0  화순_9\n",
       "\n",
       "[224 rows x 6 columns]"
      ]
     },
     "execution_count": 44,
     "metadata": {},
     "output_type": "execute_result"
    }
   ],
   "source": [
    "mk_park['시군'] = '문경_1'\n",
    "br_park['시군'] = '보령_2'\n",
    "bh_park['시군'] = '봉화_3'\n",
    "sc_park['시군'] = '삼척_4'\n",
    "yw_park['시군'] = '영월_5'\n",
    "js_park['시군'] = '정선_6'\n",
    "tb_park['시군'] = '태백_7'\n",
    "pc_park['시군'] = '평창_8'\n",
    "hs_park['시군'] = '화순_9'\n",
    "\n",
    "park = pd.concat([mk_park, br_park, bh_park, sc_park, yw_park,\n",
    "                  js_park, tb_park, pc_park, hs_park])\n",
    "\n",
    "park = park.reset_index(drop=True)\n",
    "\n",
    "park = park[['공원명', '소재지지번주소', '위도', '경도', '공원면적', '시군']]\n",
    "\n",
    "\n",
    "\n",
    "park"
   ]
  },
  {
   "cell_type": "code",
   "execution_count": 45,
   "metadata": {},
   "outputs": [
    {
     "name": "stdout",
     "output_type": "stream",
     "text": [
      "공원 현재 면적:  [70736.0, 135155.5, 114997.9, 642178.0, 1177210.0, 449423.3, 2649013.0, 1297094.0, 427327.0]\n",
      "공원 적정 면적:  [431544, 595404, 187392, 386358, 230748, 216354, 253494, 247272, 373734]\n"
     ]
    }
   ],
   "source": [
    "park_area = []      # 공원 면적 리스트\n",
    "park_need = []      # 적정 공원 면적 리스트\n",
    "for i in range(1,10):\n",
    "    i = str(i)\n",
    "    a = park[(park['시군'].str.contains(i))]\n",
    "    park_area.append(a[\"공원면적\"].sum())\n",
    "    a = a.reset_index(drop=True)\n",
    "    i = int(i)\n",
    "    park_need.append(people[i-1]*6)\n",
    "\n",
    "print(\"공원 현재 면적: \",park_area)\n",
    "print(\"공원 적정 면적: \",park_need)"
   ]
  },
  {
   "cell_type": "code",
   "execution_count": 46,
   "metadata": {},
   "outputs": [
    {
     "name": "stdout",
     "output_type": "stream",
     "text": [
      "360808.0\n",
      "460248.5\n",
      "72394.1\n",
      "-255820.0\n",
      "-946462.0\n",
      "-233069.3\n",
      "-2395519.0\n",
      "-1049822.0\n",
      "-53593.0\n"
     ]
    }
   ],
   "source": [
    "# 값이 양수면 부족하다는 뜻\n",
    "for i in range(9):\n",
    "    print(park_need[i] - park_area[i])\n",
    "    "
   ]
  },
  {
   "cell_type": "code",
   "execution_count": 47,
   "metadata": {},
   "outputs": [
    {
     "data": {
      "text/plain": [
       "31085"
      ]
     },
     "execution_count": 47,
     "metadata": {},
     "output_type": "execute_result"
    }
   ],
   "source": [
    "# 공원 면적 평균\n",
    "park_area_m = round(park['공원면적'].mean())\n",
    "park_area_m"
   ]
  },
  {
   "cell_type": "code",
   "execution_count": 48,
   "metadata": {
    "scrolled": true
   },
   "outputs": [
    {
     "data": {
      "text/plain": [
       "문경    12.0\n",
       "보령    15.0\n",
       "봉화     2.0\n",
       "삼척     0.0\n",
       "영월     0.0\n",
       "정선     0.0\n",
       "태백     0.0\n",
       "평창     0.0\n",
       "화순     0.0\n",
       "dtype: float64"
      ]
     },
     "execution_count": 48,
     "metadata": {},
     "output_type": "execute_result"
    }
   ],
   "source": [
    "# 시군 별로 추가로 필요한 공원 수\n",
    "park_add = []\n",
    "for i in range(9):\n",
    "    if park_area[i]-park_need[i]>= 0:\n",
    "        park_add.append(0)\n",
    "    else:\n",
    "        park_add.append(round((park_need[i]-park_area[i])/park_area_m))\n",
    "\n",
    "park_add = Series(data=park_add, index=index_list)\n",
    "park_add"
   ]
  },
  {
   "cell_type": "code",
   "execution_count": 49,
   "metadata": {},
   "outputs": [
    {
     "data": {
      "text/plain": [
       "<AxesSubplot:>"
      ]
     },
     "execution_count": 49,
     "metadata": {},
     "output_type": "execute_result"
    },
    {
     "data": {
      "image/png": "[encoded data removed]",
      "text/plain": [
       "<Figure size 360x360 with 1 Axes>"
      ]
     },
     "metadata": {
      "image/png": {
       "height": 317,
       "width": 314
      }
     },
     "output_type": "display_data"
    }
   ],
   "source": [
    "park_add.plot.bar(figsize=(5,5))"
   ]
  },
  {
   "cell_type": "markdown",
   "metadata": {},
   "source": [
    "# 편의점"
   ]
  },
  {
   "cell_type": "code",
   "execution_count": 50,
   "metadata": {},
   "outputs": [],
   "source": [
    "# 지역별 편의점 데이터\n",
    "mk_mart = pd.read_csv(\"문경편의점.csv\", encoding='cp949')\n",
    "br_mart = pd.read_csv(\"보령편의점.csv\", encoding='cp949')\n",
    "bh_mart = pd.read_csv(\"봉화편의점.csv\",encoding='cp949')\n",
    "sc_mart = pd.read_csv(\"삼척편의점.csv\", encoding='cp949')\n",
    "yw_mart = pd.read_csv(\"영월편의점.csv\", encoding='cp949')\n",
    "js_mart = pd.read_csv(\"정선편의점.csv\", encoding='cp949')\n",
    "tb_mart = pd.read_csv(\"태백편의점.csv\",encoding='cp949')\n",
    "pc_mart = pd.read_csv(\"평창편의점.csv\", encoding='cp949')\n",
    "hs_mart = pd.read_csv(\"화순편의점.csv\", encoding='cp949')"
   ]
  },
  {
   "cell_type": "code",
   "execution_count": 51,
   "metadata": {
    "scrolled": false
   },
   "outputs": [
    {
     "data": {
      "text/html": [
       "<div>\n",
       "<style scoped>\n",
       "    .dataframe tbody tr th:only-of-type {\n",
       "        vertical-align: middle;\n",
       "    }\n",
       "\n",
       "    .dataframe tbody tr th {\n",
       "        vertical-align: top;\n",
       "    }\n",
       "\n",
       "    .dataframe thead th {\n",
       "        text-align: right;\n",
       "    }\n",
       "</style>\n",
       "<table border=\"1\" class=\"dataframe\">\n",
       "  <thead>\n",
       "    <tr style=\"text-align: right;\">\n",
       "      <th></th>\n",
       "      <th>업소명</th>\n",
       "      <th>업소지번주소</th>\n",
       "      <th>업소도로명주소</th>\n",
       "      <th>시군</th>\n",
       "    </tr>\n",
       "  </thead>\n",
       "  <tbody>\n",
       "    <tr>\n",
       "      <th>0</th>\n",
       "      <td>세븐일레븐 문경 점촌 애플점</td>\n",
       "      <td>경상북도 문경시 점촌동 132번지 7호 1층</td>\n",
       "      <td>경상북도 문경시 신흥로 193. 1층 (점촌동)</td>\n",
       "      <td>문경_1</td>\n",
       "    </tr>\n",
       "    <tr>\n",
       "      <th>1</th>\n",
       "      <td>GS25문경문희로점</td>\n",
       "      <td>경상북도 문경시 문경읍 하리 197번지 3호</td>\n",
       "      <td>경상북도 문경시 문경읍 문희로 5</td>\n",
       "      <td>문경_1</td>\n",
       "    </tr>\n",
       "    <tr>\n",
       "      <th>2</th>\n",
       "      <td>씨유문경모전천점</td>\n",
       "      <td>경상북도 문경시 모전동 972번지 e-센스뷰</td>\n",
       "      <td>경상북도 문경시 반쟁이1길 14. A동 1층 101호 (모전동. e-센스뷰)</td>\n",
       "      <td>문경_1</td>\n",
       "    </tr>\n",
       "    <tr>\n",
       "      <th>3</th>\n",
       "      <td>지에스(GS)25문경STX리조트점</td>\n",
       "      <td>경상북도 문경시 농암면 내서리 257번지 2호</td>\n",
       "      <td>경상북도 문경시 농암면 청화로 509. 문경STX리조트</td>\n",
       "      <td>문경_1</td>\n",
       "    </tr>\n",
       "    <tr>\n",
       "      <th>4</th>\n",
       "      <td>세븐일레븐 문경중학교점</td>\n",
       "      <td>경상북도 문경시 흥덕동 709번지 7호</td>\n",
       "      <td>경상북도 문경시 중앙로 241-1 (흥덕동)</td>\n",
       "      <td>문경_1</td>\n",
       "    </tr>\n",
       "    <tr>\n",
       "      <th>...</th>\n",
       "      <td>...</td>\n",
       "      <td>...</td>\n",
       "      <td>...</td>\n",
       "      <td>...</td>\n",
       "    </tr>\n",
       "    <tr>\n",
       "      <th>416</th>\n",
       "      <td>GS25 화순도곡점</td>\n",
       "      <td>전라남도 화순군 도곡면 원화리 346번지</td>\n",
       "      <td>전라남도 화순군 도곡면 지강로 515</td>\n",
       "      <td>화순_9</td>\n",
       "    </tr>\n",
       "    <tr>\n",
       "      <th>417</th>\n",
       "      <td>미니스톱 화순중앙점</td>\n",
       "      <td>전라남도 화순군 화순읍 향청리 153번지 5호</td>\n",
       "      <td></td>\n",
       "      <td>화순_9</td>\n",
       "    </tr>\n",
       "    <tr>\n",
       "      <th>418</th>\n",
       "      <td>미니스톱화순점</td>\n",
       "      <td>전라남도 화순군 화순읍 만연리 241번지 4호</td>\n",
       "      <td>전라남도 화순군 화순읍 중앙로 95</td>\n",
       "      <td>화순_9</td>\n",
       "    </tr>\n",
       "    <tr>\n",
       "      <th>419</th>\n",
       "      <td>세븐일레븐화순도곡점</td>\n",
       "      <td>전라남도 화순군 도곡면 원화리 618번지</td>\n",
       "      <td>전라남도 화순군 도곡면 온천1길 18</td>\n",
       "      <td>화순_9</td>\n",
       "    </tr>\n",
       "    <tr>\n",
       "      <th>420</th>\n",
       "      <td>세븐일레븐 화순능주로터리점</td>\n",
       "      <td>전라남도 화순군 능주면 석고리 194-4호</td>\n",
       "      <td></td>\n",
       "      <td>화순_9</td>\n",
       "    </tr>\n",
       "  </tbody>\n",
       "</table>\n",
       "<p>421 rows × 4 columns</p>\n",
       "</div>"
      ],
      "text/plain": [
       "                    업소명                     업소지번주소  \\\n",
       "0       세븐일레븐 문경 점촌 애플점   경상북도 문경시 점촌동 132번지 7호 1층   \n",
       "1            GS25문경문희로점   경상북도 문경시 문경읍 하리 197번지 3호   \n",
       "2              씨유문경모전천점   경상북도 문경시 모전동 972번지 e-센스뷰   \n",
       "3    지에스(GS)25문경STX리조트점  경상북도 문경시 농암면 내서리 257번지 2호   \n",
       "4          세븐일레븐 문경중학교점      경상북도 문경시 흥덕동 709번지 7호   \n",
       "..                  ...                        ...   \n",
       "416          GS25 화순도곡점     전라남도 화순군 도곡면 원화리 346번지   \n",
       "417          미니스톱 화순중앙점  전라남도 화순군 화순읍 향청리 153번지 5호   \n",
       "418             미니스톱화순점  전라남도 화순군 화순읍 만연리 241번지 4호   \n",
       "419          세븐일레븐화순도곡점     전라남도 화순군 도곡면 원화리 618번지   \n",
       "420      세븐일레븐 화순능주로터리점    전라남도 화순군 능주면 석고리 194-4호   \n",
       "\n",
       "                                        업소도로명주소    시군  \n",
       "0                    경상북도 문경시 신흥로 193. 1층 (점촌동)  문경_1  \n",
       "1                            경상북도 문경시 문경읍 문희로 5  문경_1  \n",
       "2    경상북도 문경시 반쟁이1길 14. A동 1층 101호 (모전동. e-센스뷰)  문경_1  \n",
       "3                경상북도 문경시 농암면 청화로 509. 문경STX리조트  문경_1  \n",
       "4                      경상북도 문경시 중앙로 241-1 (흥덕동)  문경_1  \n",
       "..                                          ...   ...  \n",
       "416                        전라남도 화순군 도곡면 지강로 515  화순_9  \n",
       "417                                              화순_9  \n",
       "418                         전라남도 화순군 화순읍 중앙로 95  화순_9  \n",
       "419                        전라남도 화순군 도곡면 온천1길 18  화순_9  \n",
       "420                                              화순_9  \n",
       "\n",
       "[421 rows x 4 columns]"
      ]
     },
     "execution_count": 51,
     "metadata": {},
     "output_type": "execute_result"
    }
   ],
   "source": [
    "mk_mart['시군'] = '문경_1'\n",
    "br_mart['시군'] = '보령_2'\n",
    "bh_mart['시군'] = '봉화_3'\n",
    "sc_mart['시군'] = '삼척_4'\n",
    "yw_mart['시군'] = '영월_5'\n",
    "js_mart['시군'] = '정선_6'\n",
    "tb_mart['시군'] = '태백_7'\n",
    "pc_mart['시군'] = '평창_8'\n",
    "hs_mart['시군'] = '화순_9'\n",
    "\n",
    "mart = pd.concat([mk_mart, br_mart, bh_mart, sc_mart, yw_mart,\n",
    "                  js_mart, tb_mart, pc_mart, hs_mart])\n",
    "\n",
    "mart = mart[['업소명', '업소지번주소', '업소도로명주소', '시군']]\n",
    "\n",
    "mart = mart.dropna(subset=['업소명'])\n",
    "\n",
    "mart = mart[(mart['업소명'].str.contains('GS'))|(mart['업소명'].str.contains('gs'))|\n",
    "           (mart['업소명'].str.contains('세븐일레븐'))|(mart['업소명'].str.contains('씨유'))|\n",
    "           (mart['업소명'].str.contains('cu'))|(mart['업소명'].str.contains('CU'))|\n",
    "           (mart['업소명'].str.contains('미니스톱'))]\n",
    "\n",
    "mart = mart.reset_index(drop=True)\n",
    "mart"
   ]
  },
  {
   "cell_type": "code",
   "execution_count": 52,
   "metadata": {},
   "outputs": [
    {
     "name": "stdout",
     "output_type": "stream",
     "text": [
      "편의점 현재 개수:  [51, 48, 6, 92, 32, 51, 47, 65, 29]\n",
      "편의점 적정 개수 [66, 92, 28, 59, 35, 33, 39, 38, 57]\n"
     ]
    }
   ],
   "source": [
    "mart_count = []      # 편의점 개수 리스트\n",
    "mart_need = []       # 편의점 적정 개수 리스트\n",
    "for i in range(1,10):\n",
    "    i = str(i)\n",
    "    a = mart[(mart['시군'].str.contains(i))]\n",
    "    mart_count.append(a.shape[0])\n",
    "    a = a.reset_index(drop=True)\n",
    "    i = int(i)\n",
    "    mart_need.append(int(people[i-1]/1077))\n",
    "\n",
    "print(\"편의점 현재 개수: \",mart_count)\n",
    "print(\"편의점 적정 개수\",mart_need)"
   ]
  },
  {
   "cell_type": "code",
   "execution_count": 53,
   "metadata": {},
   "outputs": [
    {
     "data": {
      "text/plain": [
       "문경    15\n",
       "보령    44\n",
       "봉화    22\n",
       "삼척     0\n",
       "영월     3\n",
       "정선     0\n",
       "태백     0\n",
       "평창     0\n",
       "화순    28\n",
       "dtype: int64"
      ]
     },
     "execution_count": 53,
     "metadata": {},
     "output_type": "execute_result"
    }
   ],
   "source": [
    "# 시군 별로 추가로 필요한 편의점 수\n",
    "mart_add = []\n",
    "for i in range(9):\n",
    "    if mart_count[i]-mart_need[i]>= 0:\n",
    "        mart_add.append(0)\n",
    "    else:\n",
    "        mart_add.append(mart_need[i]-mart_count[i])\n",
    "\n",
    "mart_add = Series(data=mart_add, index=index_list)\n",
    "mart_add"
   ]
  },
  {
   "cell_type": "code",
   "execution_count": 54,
   "metadata": {},
   "outputs": [
    {
     "data": {
      "text/plain": [
       "<AxesSubplot:>"
      ]
     },
     "execution_count": 54,
     "metadata": {},
     "output_type": "execute_result"
    },
    {
     "data": {
      "image/png": "[encoded data removed]",
      "text/plain": [
       "<Figure size 360x360 with 1 Axes>"
      ]
     },
     "metadata": {
      "image/png": {
       "height": 317,
       "width": 315
      }
     },
     "output_type": "display_data"
    }
   ],
   "source": [
    "mart_add.plot.bar(figsize=(5,5))"
   ]
  },
  {
   "cell_type": "markdown",
   "metadata": {},
   "source": [
    "# 주차장"
   ]
  },
  {
   "cell_type": "code",
   "execution_count": 55,
   "metadata": {},
   "outputs": [],
   "source": [
    "# 지역별 주차장 데이터\n",
    "mk_pl = pd.read_csv(\"문경주차장.csv\", encoding='cp949')\n",
    "br_pl = pd.read_csv(\"보령주차장.csv\", encoding='cp949')\n",
    "bh_pl = pd.read_csv(\"봉화주차장.csv\",encoding='cp949')\n",
    "sc_pl = pd.read_csv(\"삼척주차장.csv\", encoding='cp949')\n",
    "yw_pl = pd.read_csv(\"영월주차장.csv\", encoding='cp949')\n",
    "js_pl = pd.read_csv(\"정선주차장.csv\", encoding='cp949')\n",
    "tb_pl = pd.read_csv(\"태백주차장.csv\",encoding='cp949')\n",
    "pc_pl = pd.read_csv(\"평창주차장.csv\", encoding='cp949')\n",
    "hs_pl = pd.read_csv(\"화순주차장.csv\", encoding='cp949')"
   ]
  },
  {
   "cell_type": "code",
   "execution_count": 56,
   "metadata": {
    "scrolled": true
   },
   "outputs": [
    {
     "data": {
      "text/html": [
       "<div>\n",
       "<style scoped>\n",
       "    .dataframe tbody tr th:only-of-type {\n",
       "        vertical-align: middle;\n",
       "    }\n",
       "\n",
       "    .dataframe tbody tr th {\n",
       "        vertical-align: top;\n",
       "    }\n",
       "\n",
       "    .dataframe thead th {\n",
       "        text-align: right;\n",
       "    }\n",
       "</style>\n",
       "<table border=\"1\" class=\"dataframe\">\n",
       "  <thead>\n",
       "    <tr style=\"text-align: right;\">\n",
       "      <th></th>\n",
       "      <th>주차장명</th>\n",
       "      <th>주차구획수</th>\n",
       "      <th>위도</th>\n",
       "      <th>경도</th>\n",
       "      <th>시군</th>\n",
       "    </tr>\n",
       "  </thead>\n",
       "  <tbody>\n",
       "    <tr>\n",
       "      <th>0</th>\n",
       "      <td>제1공영주차장</td>\n",
       "      <td>49</td>\n",
       "      <td>36.586106</td>\n",
       "      <td>128.192314</td>\n",
       "      <td>문경_1</td>\n",
       "    </tr>\n",
       "    <tr>\n",
       "      <th>1</th>\n",
       "      <td>제2공영주차장</td>\n",
       "      <td>170</td>\n",
       "      <td>36.594074</td>\n",
       "      <td>128.201804</td>\n",
       "      <td>문경_1</td>\n",
       "    </tr>\n",
       "    <tr>\n",
       "      <th>2</th>\n",
       "      <td>제3공영주차장</td>\n",
       "      <td>78</td>\n",
       "      <td>36.595359</td>\n",
       "      <td>128.200679</td>\n",
       "      <td>문경_1</td>\n",
       "    </tr>\n",
       "    <tr>\n",
       "      <th>3</th>\n",
       "      <td>제4공영주차장</td>\n",
       "      <td>46</td>\n",
       "      <td>36.595411</td>\n",
       "      <td>128.202804</td>\n",
       "      <td>문경_1</td>\n",
       "    </tr>\n",
       "    <tr>\n",
       "      <th>4</th>\n",
       "      <td>제5공영주차장</td>\n",
       "      <td>39</td>\n",
       "      <td>36.600991</td>\n",
       "      <td>128.206369</td>\n",
       "      <td>문경_1</td>\n",
       "    </tr>\n",
       "    <tr>\n",
       "      <th>...</th>\n",
       "      <td>...</td>\n",
       "      <td>...</td>\n",
       "      <td>...</td>\n",
       "      <td>...</td>\n",
       "      <td>...</td>\n",
       "    </tr>\n",
       "    <tr>\n",
       "      <th>562</th>\n",
       "      <td>향청리공영주차장</td>\n",
       "      <td>123</td>\n",
       "      <td>35.062349</td>\n",
       "      <td>126.987393</td>\n",
       "      <td>화순_9</td>\n",
       "    </tr>\n",
       "    <tr>\n",
       "      <th>563</th>\n",
       "      <td>오일시장주차장</td>\n",
       "      <td>48</td>\n",
       "      <td>35.060953</td>\n",
       "      <td>126.984538</td>\n",
       "      <td>화순_9</td>\n",
       "    </tr>\n",
       "    <tr>\n",
       "      <th>564</th>\n",
       "      <td>오일시장내주차장</td>\n",
       "      <td>78</td>\n",
       "      <td>35.058343</td>\n",
       "      <td>126.983139</td>\n",
       "      <td>화순_9</td>\n",
       "    </tr>\n",
       "    <tr>\n",
       "      <th>565</th>\n",
       "      <td>이양면주차장</td>\n",
       "      <td>31</td>\n",
       "      <td>34.889717</td>\n",
       "      <td>126.988265</td>\n",
       "      <td>화순_9</td>\n",
       "    </tr>\n",
       "    <tr>\n",
       "      <th>566</th>\n",
       "      <td>민원인전용주차장</td>\n",
       "      <td>138</td>\n",
       "      <td>35.064559</td>\n",
       "      <td>126.986169</td>\n",
       "      <td>화순_9</td>\n",
       "    </tr>\n",
       "  </tbody>\n",
       "</table>\n",
       "<p>567 rows × 5 columns</p>\n",
       "</div>"
      ],
      "text/plain": [
       "         주차장명  주차구획수         위도          경도    시군\n",
       "0     제1공영주차장     49  36.586106  128.192314  문경_1\n",
       "1     제2공영주차장    170  36.594074  128.201804  문경_1\n",
       "2     제3공영주차장     78  36.595359  128.200679  문경_1\n",
       "3     제4공영주차장     46  36.595411  128.202804  문경_1\n",
       "4     제5공영주차장     39  36.600991  128.206369  문경_1\n",
       "..        ...    ...        ...         ...   ...\n",
       "562  향청리공영주차장    123  35.062349  126.987393  화순_9\n",
       "563   오일시장주차장     48  35.060953  126.984538  화순_9\n",
       "564  오일시장내주차장     78  35.058343  126.983139  화순_9\n",
       "565    이양면주차장     31  34.889717  126.988265  화순_9\n",
       "566  민원인전용주차장    138  35.064559  126.986169  화순_9\n",
       "\n",
       "[567 rows x 5 columns]"
      ]
     },
     "execution_count": 56,
     "metadata": {},
     "output_type": "execute_result"
    }
   ],
   "source": [
    "mk_pl['시군'] = '문경_1'\n",
    "br_pl['시군'] = '보령_2'\n",
    "bh_pl['시군'] = '봉화_3'\n",
    "sc_pl['시군'] = '삼척_4'\n",
    "yw_pl['시군'] = '영월_5'\n",
    "js_pl['시군'] = '정선_6'\n",
    "tb_pl['시군'] = '태백_7'\n",
    "pc_pl['시군'] = '평창_8'\n",
    "hs_pl['시군'] = '화순_9'\n",
    "\n",
    "parkinglot = pd.concat([mk_pl, br_pl, bh_pl, sc_pl, yw_pl,\n",
    "                  js_pl, tb_pl, pc_pl, hs_pl])\n",
    "\n",
    "parkinglot = parkinglot[['주차장명', '주차구획수', '위도','경도','시군']]\n",
    "parkinglot = parkinglot.reset_index(drop=True)\n",
    "parkinglot"
   ]
  },
  {
   "cell_type": "code",
   "execution_count": 57,
   "metadata": {},
   "outputs": [
    {
     "data": {
      "text/plain": [
       "51"
      ]
     },
     "execution_count": 57,
     "metadata": {},
     "output_type": "execute_result"
    }
   ],
   "source": [
    "# 주차장 칸수 평균\n",
    "parkinglot_m = round(parkinglot['주차구획수'].mean())\n",
    "parkinglot_m"
   ]
  },
  {
   "cell_type": "code",
   "execution_count": 58,
   "metadata": {},
   "outputs": [
    {
     "name": "stdout",
     "output_type": "stream",
     "text": [
      "주차장 현재 개수:  [52, 53, 54, 14, 153, 54, 70, 107, 10]\n",
      "주차장 적정 개수 [28, 39, 12, 25, 15, 14, 16, 16, 24]\n"
     ]
    }
   ],
   "source": [
    "pl_count = []            # 주차장 개수 리스트\n",
    "pl_need = res_need       # 주차장 적정 개수 리스트\n",
    "for i in range(1,10):\n",
    "    i = str(i)\n",
    "    a = parkinglot[(parkinglot['시군'].str.contains(i))]\n",
    "    pl_count.append(a.shape[0])\n",
    "    a = a.reset_index(drop=True)\n",
    "    i = int(i)\n",
    "\n",
    "print(\"주차장 현재 개수: \",pl_count)\n",
    "print(\"주차장 적정 개수\",pl_need)"
   ]
  },
  {
   "cell_type": "code",
   "execution_count": 59,
   "metadata": {},
   "outputs": [
    {
     "data": {
      "text/plain": [
       "문경     0\n",
       "보령     0\n",
       "봉화     0\n",
       "삼척    11\n",
       "영월     0\n",
       "정선     0\n",
       "태백     0\n",
       "평창     0\n",
       "화순    14\n",
       "dtype: int64"
      ]
     },
     "execution_count": 59,
     "metadata": {},
     "output_type": "execute_result"
    }
   ],
   "source": [
    "# 시군 별로 추가로 필요한 주차장 수\n",
    "pl_add = []\n",
    "for i in range(9):\n",
    "    if pl_count[i]-pl_need[i]>= 0:\n",
    "        pl_add.append(0)\n",
    "    else:\n",
    "        pl_add.append(pl_need[i]-pl_count[i])\n",
    "\n",
    "pl_add = Series(data=pl_add, index=index_list)\n",
    "pl_add"
   ]
  },
  {
   "cell_type": "code",
   "execution_count": 60,
   "metadata": {},
   "outputs": [
    {
     "data": {
      "text/plain": [
       "<AxesSubplot:>"
      ]
     },
     "execution_count": 60,
     "metadata": {},
     "output_type": "execute_result"
    },
    {
     "data": {
      "image/png": "[encoded data removed]",
      "text/plain": [
       "<Figure size 360x360 with 1 Axes>"
      ]
     },
     "metadata": {
      "image/png": {
       "height": 317,
       "width": 314
      }
     },
     "output_type": "display_data"
    }
   ],
   "source": [
    "pl_add.plot.bar(figsize=(5,5))"
   ]
  },
  {
   "cell_type": "code",
   "execution_count": 61,
   "metadata": {
    "scrolled": true
   },
   "outputs": [
    {
     "data": {
      "text/html": [
       "<div>\n",
       "<style scoped>\n",
       "    .dataframe tbody tr th:only-of-type {\n",
       "        vertical-align: middle;\n",
       "    }\n",
       "\n",
       "    .dataframe tbody tr th {\n",
       "        vertical-align: top;\n",
       "    }\n",
       "\n",
       "    .dataframe thead th {\n",
       "        text-align: right;\n",
       "    }\n",
       "</style>\n",
       "<table border=\"1\" class=\"dataframe\">\n",
       "  <thead>\n",
       "    <tr style=\"text-align: right;\">\n",
       "      <th></th>\n",
       "      <th>unused_land</th>\n",
       "      <th>hotel</th>\n",
       "      <th>restaurant</th>\n",
       "      <th>park</th>\n",
       "      <th>mart</th>\n",
       "      <th>parking_lot</th>\n",
       "    </tr>\n",
       "  </thead>\n",
       "  <tbody>\n",
       "    <tr>\n",
       "      <th>문경</th>\n",
       "      <td>6</td>\n",
       "      <td>48.0</td>\n",
       "      <td>0</td>\n",
       "      <td>12.0</td>\n",
       "      <td>15</td>\n",
       "      <td>0</td>\n",
       "    </tr>\n",
       "    <tr>\n",
       "      <th>보령</th>\n",
       "      <td>5</td>\n",
       "      <td>0.0</td>\n",
       "      <td>5</td>\n",
       "      <td>15.0</td>\n",
       "      <td>44</td>\n",
       "      <td>0</td>\n",
       "    </tr>\n",
       "    <tr>\n",
       "      <th>봉화</th>\n",
       "      <td>6</td>\n",
       "      <td>13.0</td>\n",
       "      <td>0</td>\n",
       "      <td>2.0</td>\n",
       "      <td>22</td>\n",
       "      <td>0</td>\n",
       "    </tr>\n",
       "    <tr>\n",
       "      <th>삼척</th>\n",
       "      <td>252</td>\n",
       "      <td>39.0</td>\n",
       "      <td>0</td>\n",
       "      <td>0.0</td>\n",
       "      <td>0</td>\n",
       "      <td>11</td>\n",
       "    </tr>\n",
       "    <tr>\n",
       "      <th>영월</th>\n",
       "      <td>65</td>\n",
       "      <td>0.0</td>\n",
       "      <td>0</td>\n",
       "      <td>0.0</td>\n",
       "      <td>3</td>\n",
       "      <td>0</td>\n",
       "    </tr>\n",
       "    <tr>\n",
       "      <th>정선</th>\n",
       "      <td>100</td>\n",
       "      <td>0.0</td>\n",
       "      <td>0</td>\n",
       "      <td>0.0</td>\n",
       "      <td>0</td>\n",
       "      <td>0</td>\n",
       "    </tr>\n",
       "    <tr>\n",
       "      <th>태백</th>\n",
       "      <td>231</td>\n",
       "      <td>0.0</td>\n",
       "      <td>0</td>\n",
       "      <td>0.0</td>\n",
       "      <td>0</td>\n",
       "      <td>0</td>\n",
       "    </tr>\n",
       "    <tr>\n",
       "      <th>평창</th>\n",
       "      <td>4</td>\n",
       "      <td>0.0</td>\n",
       "      <td>0</td>\n",
       "      <td>0.0</td>\n",
       "      <td>0</td>\n",
       "      <td>0</td>\n",
       "    </tr>\n",
       "    <tr>\n",
       "      <th>화순</th>\n",
       "      <td>32</td>\n",
       "      <td>90.0</td>\n",
       "      <td>0</td>\n",
       "      <td>0.0</td>\n",
       "      <td>28</td>\n",
       "      <td>14</td>\n",
       "    </tr>\n",
       "  </tbody>\n",
       "</table>\n",
       "</div>"
      ],
      "text/plain": [
       "    unused_land  hotel  restaurant  park  mart  parking_lot\n",
       "문경            6   48.0           0  12.0    15            0\n",
       "보령            5    0.0           5  15.0    44            0\n",
       "봉화            6   13.0           0   2.0    22            0\n",
       "삼척          252   39.0           0   0.0     0           11\n",
       "영월           65    0.0           0   0.0     3            0\n",
       "정선          100    0.0           0   0.0     0            0\n",
       "태백          231    0.0           0   0.0     0            0\n",
       "평창            4    0.0           0   0.0     0            0\n",
       "화순           32   90.0           0   0.0    28           14"
      ]
     },
     "execution_count": 61,
     "metadata": {},
     "output_type": "execute_result"
    }
   ],
   "source": [
    "add = pd.DataFrame({'unused_land': land_count,\n",
    "                   'hotel':hotel_add,\n",
    "                   'restaurant': res_add,\n",
    "                   'park': park_add,\n",
    "                   'mart': mart_add,\n",
    "                   'parking_lot': pl_add})\n",
    "add"
   ]
  },
  {
   "cell_type": "code",
   "execution_count": 62,
   "metadata": {},
   "outputs": [
    {
     "data": {
      "text/plain": [
       "12.0"
      ]
     },
     "execution_count": 62,
     "metadata": {},
     "output_type": "execute_result"
    }
   ],
   "source": [
    "add.loc['문경','hotel':][2]"
   ]
  },
  {
   "cell_type": "code",
   "execution_count": 63,
   "metadata": {},
   "outputs": [
    {
     "data": {
      "text/plain": [
       "<AxesSubplot:>"
      ]
     },
     "execution_count": 63,
     "metadata": {},
     "output_type": "execute_result"
    },
    {
     "data": {
      "image/png": "[encoded data removed]",
      "text/plain": [
       "<Figure size 432x288 with 1 Axes>"
      ]
     },
     "metadata": {
      "image/png": {
       "height": 252,
       "width": 376
      }
     },
     "output_type": "display_data"
    }
   ],
   "source": [
    "add[3:7].plot.bar(rot=0)"
   ]
  },
  {
   "cell_type": "code",
   "execution_count": 64,
   "metadata": {},
   "outputs": [
    {
     "data": {
      "text/plain": [
       "<AxesSubplot:>"
      ]
     },
     "execution_count": 64,
     "metadata": {},
     "output_type": "execute_result"
    },
    {
     "data": {
      "image/png": "[encoded data removed]",
      "text/plain": [
       "<Figure size 432x288 with 1 Axes>"
      ]
     },
     "metadata": {
      "image/png": {
       "height": 252,
       "width": 370
      }
     },
     "output_type": "display_data"
    }
   ],
   "source": [
    "add[7:10].plot.bar(rot=0)"
   ]
  },
  {
   "cell_type": "markdown",
   "metadata": {},
   "source": [
    "### -> 문경 : 숙박시설, 편의점, 공원 중 선택\n",
    "### -> 보령 : 식당, 편의점, 공원 중 선택\n",
    "### -> 봉화 : 숙박시설, 편의점, 공원 중 선택\n",
    "### -> 삼척 : 호텔, 편의점 건설. 남은 유휴지 많음.\n",
    "### -> 영월 : 편의점 걸설. 남은 유효지 많음\n",
    "### -> 정선 : 필요시설 없음\n",
    "### -> 태백 : 필요시설 없음\n",
    "### -> 평창 : 필요시설 없음\n",
    "### -> 화순 : 숙박시설, 편의점, 주차장 중 선택\n"
   ]
  },
  {
   "cell_type": "code",
   "execution_count": 65,
   "metadata": {},
   "outputs": [
    {
     "data": {
      "text/plain": [
       "<AxesSubplot:>"
      ]
     },
     "execution_count": 65,
     "metadata": {},
     "output_type": "execute_result"
    },
    {
     "data": {
      "image/png": "[encoded data removed]",
      "text/plain": [
       "<Figure size 432x288 with 1 Axes>"
      ]
     },
     "metadata": {
      "image/png": {
       "height": 252,
       "width": 376
      }
     },
     "output_type": "display_data"
    }
   ],
   "source": [
    "add.plot.bar(rot=0)"
   ]
  },
  {
   "cell_type": "code",
   "execution_count": null,
   "metadata": {},
   "outputs": [],
   "source": []
  },
  {
   "cell_type": "code",
   "execution_count": null,
   "metadata": {},
   "outputs": [],
   "source": []
  }
 ],
 "metadata": {
  "kernelspec": {
   "display_name": "Python 3",
   "language": "python",
   "name": "python3"
  },
  "language_info": {
   "codemirror_mode": {
    "name": "ipython",
    "version": 3
   },
   "file_extension": ".py",
   "mimetype": "text/x-python",
   "name": "python",
   "nbconvert_exporter": "python",
   "pygments_lexer": "ipython3",
   "version": "3.7.6"
  }
 },
 "nbformat": 4,
 "nbformat_minor": 4
}
